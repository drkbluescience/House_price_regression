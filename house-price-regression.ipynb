{
 "cells": [
  {
   "cell_type": "markdown",
   "id": "51ed4395",
   "metadata": {
    "papermill": {
     "duration": 0.010705,
     "end_time": "2022-10-04T11:21:38.842880",
     "exception": false,
     "start_time": "2022-10-04T11:21:38.832175",
     "status": "completed"
    },
    "tags": []
   },
   "source": [
    "# Step 1 - Preliminaries"
   ]
  },
  {
   "cell_type": "markdown",
   "id": "f1766d6d",
   "metadata": {
    "papermill": {
     "duration": 0.009207,
     "end_time": "2022-10-04T11:21:38.861532",
     "exception": false,
     "start_time": "2022-10-04T11:21:38.852325",
     "status": "completed"
    },
    "tags": []
   },
   "source": [
    "## Imports and Configuration"
   ]
  },
  {
   "cell_type": "code",
   "execution_count": 1,
   "id": "49560546",
   "metadata": {
    "execution": {
     "iopub.execute_input": "2022-10-04T11:21:38.883949Z",
     "iopub.status.busy": "2022-10-04T11:21:38.883396Z",
     "iopub.status.idle": "2022-10-04T11:21:40.412657Z",
     "shell.execute_reply": "2022-10-04T11:21:40.411725Z"
    },
    "papermill": {
     "duration": 1.544193,
     "end_time": "2022-10-04T11:21:40.415136",
     "exception": false,
     "start_time": "2022-10-04T11:21:38.870943",
     "status": "completed"
    },
    "tags": []
   },
   "outputs": [],
   "source": [
    "from pathlib import Path\n",
    "\n",
    "import matplotlib.pyplot as plt\n",
    "import numpy as np\n",
    "import pandas as pd\n",
    "import seaborn as sns\n",
    "from pandas.api.types import CategoricalDtype\n",
    "\n",
    "from category_encoders import MEstimateEncoder\n",
    "from sklearn.cluster import KMeans\n",
    "from sklearn.decomposition import PCA\n",
    "from sklearn.feature_selection import mutual_info_regression\n",
    "from sklearn.model_selection import KFold, cross_val_score, GridSearchCV\n",
    "from xgboost import XGBRegressor\n",
    "from sklearn.ensemble import GradientBoostingRegressor\n",
    "\n",
    "import time\n",
    "\n",
    "# Set Matplotlib defaults\n",
    "plt.style.use(\"seaborn-whitegrid\")\n",
    "plt.rc(\"figure\", autolayout=True)\n",
    "plt.rc(\n",
    "    \"axes\",\n",
    "    labelweight=\"bold\",\n",
    "    labelsize=\"large\",\n",
    "    titleweight=\"bold\",\n",
    "    titlesize=14,\n",
    "    titlepad=10,\n",
    ")"
   ]
  },
  {
   "cell_type": "markdown",
   "id": "b689ecd1",
   "metadata": {
    "papermill": {
     "duration": 0.009209,
     "end_time": "2022-10-04T11:21:40.434142",
     "exception": false,
     "start_time": "2022-10-04T11:21:40.424933",
     "status": "completed"
    },
    "tags": []
   },
   "source": [
    "## Data Preprocessing"
   ]
  },
  {
   "cell_type": "code",
   "execution_count": 2,
   "id": "e079fd22",
   "metadata": {
    "execution": {
     "iopub.execute_input": "2022-10-04T11:21:40.455564Z",
     "iopub.status.busy": "2022-10-04T11:21:40.454086Z",
     "iopub.status.idle": "2022-10-04T11:21:40.497036Z",
     "shell.execute_reply": "2022-10-04T11:21:40.496128Z"
    },
    "papermill": {
     "duration": 0.055866,
     "end_time": "2022-10-04T11:21:40.499513",
     "exception": false,
     "start_time": "2022-10-04T11:21:40.443647",
     "status": "completed"
    },
    "tags": []
   },
   "outputs": [],
   "source": [
    "data_dir = Path(\"../input/house-prices-advanced-regression-techniques/\")\n",
    "df = pd.read_csv(data_dir / \"train.csv\", index_col=\"Id\")"
   ]
  },
  {
   "cell_type": "code",
   "execution_count": 3,
   "id": "a111fb90",
   "metadata": {
    "execution": {
     "iopub.execute_input": "2022-10-04T11:21:40.529605Z",
     "iopub.status.busy": "2022-10-04T11:21:40.529240Z",
     "iopub.status.idle": "2022-10-04T11:21:40.737900Z",
     "shell.execute_reply": "2022-10-04T11:21:40.736600Z"
    },
    "papermill": {
     "duration": 0.232736,
     "end_time": "2022-10-04T11:21:40.741773",
     "exception": false,
     "start_time": "2022-10-04T11:21:40.509037",
     "status": "completed"
    },
    "tags": []
   },
   "outputs": [
    {
     "data": {
      "text/html": [
       "<div>\n",
       "<style scoped>\n",
       "    .dataframe tbody tr th:only-of-type {\n",
       "        vertical-align: middle;\n",
       "    }\n",
       "\n",
       "    .dataframe tbody tr th {\n",
       "        vertical-align: top;\n",
       "    }\n",
       "\n",
       "    .dataframe thead th {\n",
       "        text-align: right;\n",
       "    }\n",
       "</style>\n",
       "<table border=\"1\" class=\"dataframe\">\n",
       "  <thead>\n",
       "    <tr style=\"text-align: right;\">\n",
       "      <th></th>\n",
       "      <th>count</th>\n",
       "      <th>mean</th>\n",
       "      <th>std</th>\n",
       "      <th>min</th>\n",
       "      <th>25%</th>\n",
       "      <th>50%</th>\n",
       "      <th>75%</th>\n",
       "      <th>max</th>\n",
       "    </tr>\n",
       "  </thead>\n",
       "  <tbody>\n",
       "    <tr>\n",
       "      <th>MSSubClass</th>\n",
       "      <td>1460.0</td>\n",
       "      <td>56.897260</td>\n",
       "      <td>42.300571</td>\n",
       "      <td>20.0</td>\n",
       "      <td>20.00</td>\n",
       "      <td>50.0</td>\n",
       "      <td>70.00</td>\n",
       "      <td>190.0</td>\n",
       "    </tr>\n",
       "    <tr>\n",
       "      <th>LotFrontage</th>\n",
       "      <td>1201.0</td>\n",
       "      <td>70.049958</td>\n",
       "      <td>24.284752</td>\n",
       "      <td>21.0</td>\n",
       "      <td>59.00</td>\n",
       "      <td>69.0</td>\n",
       "      <td>80.00</td>\n",
       "      <td>313.0</td>\n",
       "    </tr>\n",
       "    <tr>\n",
       "      <th>LotArea</th>\n",
       "      <td>1460.0</td>\n",
       "      <td>10516.828082</td>\n",
       "      <td>9981.264932</td>\n",
       "      <td>1300.0</td>\n",
       "      <td>7553.50</td>\n",
       "      <td>9478.5</td>\n",
       "      <td>11601.50</td>\n",
       "      <td>215245.0</td>\n",
       "    </tr>\n",
       "    <tr>\n",
       "      <th>OverallQual</th>\n",
       "      <td>1460.0</td>\n",
       "      <td>6.099315</td>\n",
       "      <td>1.382997</td>\n",
       "      <td>1.0</td>\n",
       "      <td>5.00</td>\n",
       "      <td>6.0</td>\n",
       "      <td>7.00</td>\n",
       "      <td>10.0</td>\n",
       "    </tr>\n",
       "    <tr>\n",
       "      <th>OverallCond</th>\n",
       "      <td>1460.0</td>\n",
       "      <td>5.575342</td>\n",
       "      <td>1.112799</td>\n",
       "      <td>1.0</td>\n",
       "      <td>5.00</td>\n",
       "      <td>5.0</td>\n",
       "      <td>6.00</td>\n",
       "      <td>9.0</td>\n",
       "    </tr>\n",
       "    <tr>\n",
       "      <th>YearBuilt</th>\n",
       "      <td>1460.0</td>\n",
       "      <td>1971.267808</td>\n",
       "      <td>30.202904</td>\n",
       "      <td>1872.0</td>\n",
       "      <td>1954.00</td>\n",
       "      <td>1973.0</td>\n",
       "      <td>2000.00</td>\n",
       "      <td>2010.0</td>\n",
       "    </tr>\n",
       "    <tr>\n",
       "      <th>YearRemodAdd</th>\n",
       "      <td>1460.0</td>\n",
       "      <td>1984.865753</td>\n",
       "      <td>20.645407</td>\n",
       "      <td>1950.0</td>\n",
       "      <td>1967.00</td>\n",
       "      <td>1994.0</td>\n",
       "      <td>2004.00</td>\n",
       "      <td>2010.0</td>\n",
       "    </tr>\n",
       "    <tr>\n",
       "      <th>MasVnrArea</th>\n",
       "      <td>1452.0</td>\n",
       "      <td>103.685262</td>\n",
       "      <td>181.066207</td>\n",
       "      <td>0.0</td>\n",
       "      <td>0.00</td>\n",
       "      <td>0.0</td>\n",
       "      <td>166.00</td>\n",
       "      <td>1600.0</td>\n",
       "    </tr>\n",
       "    <tr>\n",
       "      <th>BsmtFinSF1</th>\n",
       "      <td>1460.0</td>\n",
       "      <td>443.639726</td>\n",
       "      <td>456.098091</td>\n",
       "      <td>0.0</td>\n",
       "      <td>0.00</td>\n",
       "      <td>383.5</td>\n",
       "      <td>712.25</td>\n",
       "      <td>5644.0</td>\n",
       "    </tr>\n",
       "    <tr>\n",
       "      <th>BsmtFinSF2</th>\n",
       "      <td>1460.0</td>\n",
       "      <td>46.549315</td>\n",
       "      <td>161.319273</td>\n",
       "      <td>0.0</td>\n",
       "      <td>0.00</td>\n",
       "      <td>0.0</td>\n",
       "      <td>0.00</td>\n",
       "      <td>1474.0</td>\n",
       "    </tr>\n",
       "    <tr>\n",
       "      <th>BsmtUnfSF</th>\n",
       "      <td>1460.0</td>\n",
       "      <td>567.240411</td>\n",
       "      <td>441.866955</td>\n",
       "      <td>0.0</td>\n",
       "      <td>223.00</td>\n",
       "      <td>477.5</td>\n",
       "      <td>808.00</td>\n",
       "      <td>2336.0</td>\n",
       "    </tr>\n",
       "    <tr>\n",
       "      <th>TotalBsmtSF</th>\n",
       "      <td>1460.0</td>\n",
       "      <td>1057.429452</td>\n",
       "      <td>438.705324</td>\n",
       "      <td>0.0</td>\n",
       "      <td>795.75</td>\n",
       "      <td>991.5</td>\n",
       "      <td>1298.25</td>\n",
       "      <td>6110.0</td>\n",
       "    </tr>\n",
       "    <tr>\n",
       "      <th>1stFlrSF</th>\n",
       "      <td>1460.0</td>\n",
       "      <td>1162.626712</td>\n",
       "      <td>386.587738</td>\n",
       "      <td>334.0</td>\n",
       "      <td>882.00</td>\n",
       "      <td>1087.0</td>\n",
       "      <td>1391.25</td>\n",
       "      <td>4692.0</td>\n",
       "    </tr>\n",
       "    <tr>\n",
       "      <th>2ndFlrSF</th>\n",
       "      <td>1460.0</td>\n",
       "      <td>346.992466</td>\n",
       "      <td>436.528436</td>\n",
       "      <td>0.0</td>\n",
       "      <td>0.00</td>\n",
       "      <td>0.0</td>\n",
       "      <td>728.00</td>\n",
       "      <td>2065.0</td>\n",
       "    </tr>\n",
       "    <tr>\n",
       "      <th>LowQualFinSF</th>\n",
       "      <td>1460.0</td>\n",
       "      <td>5.844521</td>\n",
       "      <td>48.623081</td>\n",
       "      <td>0.0</td>\n",
       "      <td>0.00</td>\n",
       "      <td>0.0</td>\n",
       "      <td>0.00</td>\n",
       "      <td>572.0</td>\n",
       "    </tr>\n",
       "    <tr>\n",
       "      <th>GrLivArea</th>\n",
       "      <td>1460.0</td>\n",
       "      <td>1515.463699</td>\n",
       "      <td>525.480383</td>\n",
       "      <td>334.0</td>\n",
       "      <td>1129.50</td>\n",
       "      <td>1464.0</td>\n",
       "      <td>1776.75</td>\n",
       "      <td>5642.0</td>\n",
       "    </tr>\n",
       "    <tr>\n",
       "      <th>BsmtFullBath</th>\n",
       "      <td>1460.0</td>\n",
       "      <td>0.425342</td>\n",
       "      <td>0.518911</td>\n",
       "      <td>0.0</td>\n",
       "      <td>0.00</td>\n",
       "      <td>0.0</td>\n",
       "      <td>1.00</td>\n",
       "      <td>3.0</td>\n",
       "    </tr>\n",
       "    <tr>\n",
       "      <th>BsmtHalfBath</th>\n",
       "      <td>1460.0</td>\n",
       "      <td>0.057534</td>\n",
       "      <td>0.238753</td>\n",
       "      <td>0.0</td>\n",
       "      <td>0.00</td>\n",
       "      <td>0.0</td>\n",
       "      <td>0.00</td>\n",
       "      <td>2.0</td>\n",
       "    </tr>\n",
       "    <tr>\n",
       "      <th>FullBath</th>\n",
       "      <td>1460.0</td>\n",
       "      <td>1.565068</td>\n",
       "      <td>0.550916</td>\n",
       "      <td>0.0</td>\n",
       "      <td>1.00</td>\n",
       "      <td>2.0</td>\n",
       "      <td>2.00</td>\n",
       "      <td>3.0</td>\n",
       "    </tr>\n",
       "    <tr>\n",
       "      <th>HalfBath</th>\n",
       "      <td>1460.0</td>\n",
       "      <td>0.382877</td>\n",
       "      <td>0.502885</td>\n",
       "      <td>0.0</td>\n",
       "      <td>0.00</td>\n",
       "      <td>0.0</td>\n",
       "      <td>1.00</td>\n",
       "      <td>2.0</td>\n",
       "    </tr>\n",
       "    <tr>\n",
       "      <th>BedroomAbvGr</th>\n",
       "      <td>1460.0</td>\n",
       "      <td>2.866438</td>\n",
       "      <td>0.815778</td>\n",
       "      <td>0.0</td>\n",
       "      <td>2.00</td>\n",
       "      <td>3.0</td>\n",
       "      <td>3.00</td>\n",
       "      <td>8.0</td>\n",
       "    </tr>\n",
       "    <tr>\n",
       "      <th>KitchenAbvGr</th>\n",
       "      <td>1460.0</td>\n",
       "      <td>1.046575</td>\n",
       "      <td>0.220338</td>\n",
       "      <td>0.0</td>\n",
       "      <td>1.00</td>\n",
       "      <td>1.0</td>\n",
       "      <td>1.00</td>\n",
       "      <td>3.0</td>\n",
       "    </tr>\n",
       "    <tr>\n",
       "      <th>TotRmsAbvGrd</th>\n",
       "      <td>1460.0</td>\n",
       "      <td>6.517808</td>\n",
       "      <td>1.625393</td>\n",
       "      <td>2.0</td>\n",
       "      <td>5.00</td>\n",
       "      <td>6.0</td>\n",
       "      <td>7.00</td>\n",
       "      <td>14.0</td>\n",
       "    </tr>\n",
       "    <tr>\n",
       "      <th>Fireplaces</th>\n",
       "      <td>1460.0</td>\n",
       "      <td>0.613014</td>\n",
       "      <td>0.644666</td>\n",
       "      <td>0.0</td>\n",
       "      <td>0.00</td>\n",
       "      <td>1.0</td>\n",
       "      <td>1.00</td>\n",
       "      <td>3.0</td>\n",
       "    </tr>\n",
       "    <tr>\n",
       "      <th>GarageYrBlt</th>\n",
       "      <td>1379.0</td>\n",
       "      <td>1978.506164</td>\n",
       "      <td>24.689725</td>\n",
       "      <td>1900.0</td>\n",
       "      <td>1961.00</td>\n",
       "      <td>1980.0</td>\n",
       "      <td>2002.00</td>\n",
       "      <td>2010.0</td>\n",
       "    </tr>\n",
       "    <tr>\n",
       "      <th>GarageCars</th>\n",
       "      <td>1460.0</td>\n",
       "      <td>1.767123</td>\n",
       "      <td>0.747315</td>\n",
       "      <td>0.0</td>\n",
       "      <td>1.00</td>\n",
       "      <td>2.0</td>\n",
       "      <td>2.00</td>\n",
       "      <td>4.0</td>\n",
       "    </tr>\n",
       "    <tr>\n",
       "      <th>GarageArea</th>\n",
       "      <td>1460.0</td>\n",
       "      <td>472.980137</td>\n",
       "      <td>213.804841</td>\n",
       "      <td>0.0</td>\n",
       "      <td>334.50</td>\n",
       "      <td>480.0</td>\n",
       "      <td>576.00</td>\n",
       "      <td>1418.0</td>\n",
       "    </tr>\n",
       "    <tr>\n",
       "      <th>WoodDeckSF</th>\n",
       "      <td>1460.0</td>\n",
       "      <td>94.244521</td>\n",
       "      <td>125.338794</td>\n",
       "      <td>0.0</td>\n",
       "      <td>0.00</td>\n",
       "      <td>0.0</td>\n",
       "      <td>168.00</td>\n",
       "      <td>857.0</td>\n",
       "    </tr>\n",
       "    <tr>\n",
       "      <th>OpenPorchSF</th>\n",
       "      <td>1460.0</td>\n",
       "      <td>46.660274</td>\n",
       "      <td>66.256028</td>\n",
       "      <td>0.0</td>\n",
       "      <td>0.00</td>\n",
       "      <td>25.0</td>\n",
       "      <td>68.00</td>\n",
       "      <td>547.0</td>\n",
       "    </tr>\n",
       "    <tr>\n",
       "      <th>EnclosedPorch</th>\n",
       "      <td>1460.0</td>\n",
       "      <td>21.954110</td>\n",
       "      <td>61.119149</td>\n",
       "      <td>0.0</td>\n",
       "      <td>0.00</td>\n",
       "      <td>0.0</td>\n",
       "      <td>0.00</td>\n",
       "      <td>552.0</td>\n",
       "    </tr>\n",
       "    <tr>\n",
       "      <th>3SsnPorch</th>\n",
       "      <td>1460.0</td>\n",
       "      <td>3.409589</td>\n",
       "      <td>29.317331</td>\n",
       "      <td>0.0</td>\n",
       "      <td>0.00</td>\n",
       "      <td>0.0</td>\n",
       "      <td>0.00</td>\n",
       "      <td>508.0</td>\n",
       "    </tr>\n",
       "    <tr>\n",
       "      <th>ScreenPorch</th>\n",
       "      <td>1460.0</td>\n",
       "      <td>15.060959</td>\n",
       "      <td>55.757415</td>\n",
       "      <td>0.0</td>\n",
       "      <td>0.00</td>\n",
       "      <td>0.0</td>\n",
       "      <td>0.00</td>\n",
       "      <td>480.0</td>\n",
       "    </tr>\n",
       "    <tr>\n",
       "      <th>PoolArea</th>\n",
       "      <td>1460.0</td>\n",
       "      <td>2.758904</td>\n",
       "      <td>40.177307</td>\n",
       "      <td>0.0</td>\n",
       "      <td>0.00</td>\n",
       "      <td>0.0</td>\n",
       "      <td>0.00</td>\n",
       "      <td>738.0</td>\n",
       "    </tr>\n",
       "    <tr>\n",
       "      <th>MiscVal</th>\n",
       "      <td>1460.0</td>\n",
       "      <td>43.489041</td>\n",
       "      <td>496.123024</td>\n",
       "      <td>0.0</td>\n",
       "      <td>0.00</td>\n",
       "      <td>0.0</td>\n",
       "      <td>0.00</td>\n",
       "      <td>15500.0</td>\n",
       "    </tr>\n",
       "    <tr>\n",
       "      <th>MoSold</th>\n",
       "      <td>1460.0</td>\n",
       "      <td>6.321918</td>\n",
       "      <td>2.703626</td>\n",
       "      <td>1.0</td>\n",
       "      <td>5.00</td>\n",
       "      <td>6.0</td>\n",
       "      <td>8.00</td>\n",
       "      <td>12.0</td>\n",
       "    </tr>\n",
       "    <tr>\n",
       "      <th>YrSold</th>\n",
       "      <td>1460.0</td>\n",
       "      <td>2007.815753</td>\n",
       "      <td>1.328095</td>\n",
       "      <td>2006.0</td>\n",
       "      <td>2007.00</td>\n",
       "      <td>2008.0</td>\n",
       "      <td>2009.00</td>\n",
       "      <td>2010.0</td>\n",
       "    </tr>\n",
       "    <tr>\n",
       "      <th>SalePrice</th>\n",
       "      <td>1460.0</td>\n",
       "      <td>180921.195890</td>\n",
       "      <td>79442.502883</td>\n",
       "      <td>34900.0</td>\n",
       "      <td>129975.00</td>\n",
       "      <td>163000.0</td>\n",
       "      <td>214000.00</td>\n",
       "      <td>755000.0</td>\n",
       "    </tr>\n",
       "  </tbody>\n",
       "</table>\n",
       "</div>"
      ],
      "text/plain": [
       "                count           mean           std      min        25%  \\\n",
       "MSSubClass     1460.0      56.897260     42.300571     20.0      20.00   \n",
       "LotFrontage    1201.0      70.049958     24.284752     21.0      59.00   \n",
       "LotArea        1460.0   10516.828082   9981.264932   1300.0    7553.50   \n",
       "OverallQual    1460.0       6.099315      1.382997      1.0       5.00   \n",
       "OverallCond    1460.0       5.575342      1.112799      1.0       5.00   \n",
       "YearBuilt      1460.0    1971.267808     30.202904   1872.0    1954.00   \n",
       "YearRemodAdd   1460.0    1984.865753     20.645407   1950.0    1967.00   \n",
       "MasVnrArea     1452.0     103.685262    181.066207      0.0       0.00   \n",
       "BsmtFinSF1     1460.0     443.639726    456.098091      0.0       0.00   \n",
       "BsmtFinSF2     1460.0      46.549315    161.319273      0.0       0.00   \n",
       "BsmtUnfSF      1460.0     567.240411    441.866955      0.0     223.00   \n",
       "TotalBsmtSF    1460.0    1057.429452    438.705324      0.0     795.75   \n",
       "1stFlrSF       1460.0    1162.626712    386.587738    334.0     882.00   \n",
       "2ndFlrSF       1460.0     346.992466    436.528436      0.0       0.00   \n",
       "LowQualFinSF   1460.0       5.844521     48.623081      0.0       0.00   \n",
       "GrLivArea      1460.0    1515.463699    525.480383    334.0    1129.50   \n",
       "BsmtFullBath   1460.0       0.425342      0.518911      0.0       0.00   \n",
       "BsmtHalfBath   1460.0       0.057534      0.238753      0.0       0.00   \n",
       "FullBath       1460.0       1.565068      0.550916      0.0       1.00   \n",
       "HalfBath       1460.0       0.382877      0.502885      0.0       0.00   \n",
       "BedroomAbvGr   1460.0       2.866438      0.815778      0.0       2.00   \n",
       "KitchenAbvGr   1460.0       1.046575      0.220338      0.0       1.00   \n",
       "TotRmsAbvGrd   1460.0       6.517808      1.625393      2.0       5.00   \n",
       "Fireplaces     1460.0       0.613014      0.644666      0.0       0.00   \n",
       "GarageYrBlt    1379.0    1978.506164     24.689725   1900.0    1961.00   \n",
       "GarageCars     1460.0       1.767123      0.747315      0.0       1.00   \n",
       "GarageArea     1460.0     472.980137    213.804841      0.0     334.50   \n",
       "WoodDeckSF     1460.0      94.244521    125.338794      0.0       0.00   \n",
       "OpenPorchSF    1460.0      46.660274     66.256028      0.0       0.00   \n",
       "EnclosedPorch  1460.0      21.954110     61.119149      0.0       0.00   \n",
       "3SsnPorch      1460.0       3.409589     29.317331      0.0       0.00   \n",
       "ScreenPorch    1460.0      15.060959     55.757415      0.0       0.00   \n",
       "PoolArea       1460.0       2.758904     40.177307      0.0       0.00   \n",
       "MiscVal        1460.0      43.489041    496.123024      0.0       0.00   \n",
       "MoSold         1460.0       6.321918      2.703626      1.0       5.00   \n",
       "YrSold         1460.0    2007.815753      1.328095   2006.0    2007.00   \n",
       "SalePrice      1460.0  180921.195890  79442.502883  34900.0  129975.00   \n",
       "\n",
       "                    50%        75%       max  \n",
       "MSSubClass         50.0      70.00     190.0  \n",
       "LotFrontage        69.0      80.00     313.0  \n",
       "LotArea          9478.5   11601.50  215245.0  \n",
       "OverallQual         6.0       7.00      10.0  \n",
       "OverallCond         5.0       6.00       9.0  \n",
       "YearBuilt        1973.0    2000.00    2010.0  \n",
       "YearRemodAdd     1994.0    2004.00    2010.0  \n",
       "MasVnrArea          0.0     166.00    1600.0  \n",
       "BsmtFinSF1        383.5     712.25    5644.0  \n",
       "BsmtFinSF2          0.0       0.00    1474.0  \n",
       "BsmtUnfSF         477.5     808.00    2336.0  \n",
       "TotalBsmtSF       991.5    1298.25    6110.0  \n",
       "1stFlrSF         1087.0    1391.25    4692.0  \n",
       "2ndFlrSF            0.0     728.00    2065.0  \n",
       "LowQualFinSF        0.0       0.00     572.0  \n",
       "GrLivArea        1464.0    1776.75    5642.0  \n",
       "BsmtFullBath        0.0       1.00       3.0  \n",
       "BsmtHalfBath        0.0       0.00       2.0  \n",
       "FullBath            2.0       2.00       3.0  \n",
       "HalfBath            0.0       1.00       2.0  \n",
       "BedroomAbvGr        3.0       3.00       8.0  \n",
       "KitchenAbvGr        1.0       1.00       3.0  \n",
       "TotRmsAbvGrd        6.0       7.00      14.0  \n",
       "Fireplaces          1.0       1.00       3.0  \n",
       "GarageYrBlt      1980.0    2002.00    2010.0  \n",
       "GarageCars          2.0       2.00       4.0  \n",
       "GarageArea        480.0     576.00    1418.0  \n",
       "WoodDeckSF          0.0     168.00     857.0  \n",
       "OpenPorchSF        25.0      68.00     547.0  \n",
       "EnclosedPorch       0.0       0.00     552.0  \n",
       "3SsnPorch           0.0       0.00     508.0  \n",
       "ScreenPorch         0.0       0.00     480.0  \n",
       "PoolArea            0.0       0.00     738.0  \n",
       "MiscVal             0.0       0.00   15500.0  \n",
       "MoSold              6.0       8.00      12.0  \n",
       "YrSold           2008.0    2009.00    2010.0  \n",
       "SalePrice      163000.0  214000.00  755000.0  "
      ]
     },
     "execution_count": 3,
     "metadata": {},
     "output_type": "execute_result"
    }
   ],
   "source": [
    "# let's get be familiar to dataset\n",
    "# There is a great distance between min. max. of SalePrice values \n",
    "df.describe().T"
   ]
  },
  {
   "cell_type": "code",
   "execution_count": 4,
   "id": "8ebdffd2",
   "metadata": {
    "execution": {
     "iopub.execute_input": "2022-10-04T11:21:40.780351Z",
     "iopub.status.busy": "2022-10-04T11:21:40.779973Z",
     "iopub.status.idle": "2022-10-04T11:21:40.813298Z",
     "shell.execute_reply": "2022-10-04T11:21:40.812344Z"
    },
    "papermill": {
     "duration": 0.054955,
     "end_time": "2022-10-04T11:21:40.815919",
     "exception": false,
     "start_time": "2022-10-04T11:21:40.760964",
     "status": "completed"
    },
    "tags": []
   },
   "outputs": [
    {
     "data": {
      "text/plain": [
       "MSZoning          5\n",
       "Street            2\n",
       "Alley             2\n",
       "LotShape          4\n",
       "LandContour       4\n",
       "Utilities         2\n",
       "LotConfig         5\n",
       "LandSlope         3\n",
       "Neighborhood     25\n",
       "Condition1        9\n",
       "Condition2        8\n",
       "BldgType          5\n",
       "HouseStyle        8\n",
       "RoofStyle         6\n",
       "RoofMatl          8\n",
       "Exterior1st      15\n",
       "Exterior2nd      16\n",
       "MasVnrType        4\n",
       "ExterQual         4\n",
       "ExterCond         5\n",
       "Foundation        6\n",
       "BsmtQual          4\n",
       "BsmtCond          4\n",
       "BsmtExposure      4\n",
       "BsmtFinType1      6\n",
       "BsmtFinType2      6\n",
       "Heating           6\n",
       "HeatingQC         5\n",
       "CentralAir        2\n",
       "Electrical        5\n",
       "KitchenQual       4\n",
       "Functional        7\n",
       "FireplaceQu       5\n",
       "GarageType        6\n",
       "GarageFinish      3\n",
       "GarageQual        5\n",
       "GarageCond        5\n",
       "PavedDrive        3\n",
       "PoolQC            3\n",
       "Fence             4\n",
       "MiscFeature       4\n",
       "SaleType          9\n",
       "SaleCondition     6\n",
       "dtype: int64"
      ]
     },
     "execution_count": 4,
     "metadata": {},
     "output_type": "execute_result"
    }
   ],
   "source": [
    "categorical_cols = [cname for cname in df.columns if\n",
    "                                df[cname].dtype == \"object\"]\n",
    "\n",
    "df[categorical_cols].nunique()"
   ]
  },
  {
   "cell_type": "code",
   "execution_count": 5,
   "id": "151c4e5b",
   "metadata": {
    "execution": {
     "iopub.execute_input": "2022-10-04T11:21:40.853472Z",
     "iopub.status.busy": "2022-10-04T11:21:40.853041Z",
     "iopub.status.idle": "2022-10-04T11:21:40.860823Z",
     "shell.execute_reply": "2022-10-04T11:21:40.859727Z"
    },
    "papermill": {
     "duration": 0.029707,
     "end_time": "2022-10-04T11:21:40.865449",
     "exception": false,
     "start_time": "2022-10-04T11:21:40.835742",
     "status": "completed"
    },
    "tags": []
   },
   "outputs": [
    {
     "data": {
      "text/plain": [
       "array(['VinylSd', 'MetalSd', 'Wd Shng', 'HdBoard', 'Plywood', 'Wd Sdng',\n",
       "       'CmentBd', 'BrkFace', 'Stucco', 'AsbShng', 'Brk Cmn', 'ImStucc',\n",
       "       'AsphShn', 'Stone', 'Other', 'CBlock'], dtype=object)"
      ]
     },
     "execution_count": 5,
     "metadata": {},
     "output_type": "execute_result"
    }
   ],
   "source": [
    "df.Exterior2nd.unique()"
   ]
  },
  {
   "cell_type": "code",
   "execution_count": 6,
   "id": "e67c7f7e",
   "metadata": {
    "execution": {
     "iopub.execute_input": "2022-10-04T11:21:40.899835Z",
     "iopub.status.busy": "2022-10-04T11:21:40.899465Z",
     "iopub.status.idle": "2022-10-04T11:21:41.309817Z",
     "shell.execute_reply": "2022-10-04T11:21:41.308764Z"
    },
    "papermill": {
     "duration": 0.429679,
     "end_time": "2022-10-04T11:21:41.311860",
     "exception": false,
     "start_time": "2022-10-04T11:21:40.882181",
     "status": "completed"
    },
    "tags": []
   },
   "outputs": [
    {
     "data": {
      "text/plain": [
       "<AxesSubplot:xlabel='GarageYrBlt', ylabel='Count'>"
      ]
     },
     "execution_count": 6,
     "metadata": {},
     "output_type": "execute_result"
    },
    {
     "data": {
      "image/png": "[encoded data removed]",
      "text/plain": [
       "<Figure size 504x288 with 1 Axes>"
      ]
     },
     "metadata": {},
     "output_type": "display_data"
    }
   ],
   "source": [
    "plt.figure(figsize=(7,4))\n",
    "sns.histplot(df[\"GarageYrBlt\"])"
   ]
  },
  {
   "cell_type": "code",
   "execution_count": 7,
   "id": "21842388",
   "metadata": {
    "execution": {
     "iopub.execute_input": "2022-10-04T11:21:41.336786Z",
     "iopub.status.busy": "2022-10-04T11:21:41.335002Z",
     "iopub.status.idle": "2022-10-04T11:21:41.653118Z",
     "shell.execute_reply": "2022-10-04T11:21:41.652200Z"
    },
    "papermill": {
     "duration": 0.331626,
     "end_time": "2022-10-04T11:21:41.655091",
     "exception": false,
     "start_time": "2022-10-04T11:21:41.323465",
     "status": "completed"
    },
    "tags": []
   },
   "outputs": [
    {
     "data": {
      "text/plain": [
       "<AxesSubplot:xlabel='YearBuilt', ylabel='Count'>"
      ]
     },
     "execution_count": 7,
     "metadata": {},
     "output_type": "execute_result"
    },
    {
     "data": {
      "image/png": "[encoded data removed]",
      "text/plain": [
       "<Figure size 504x288 with 1 Axes>"
      ]
     },
     "metadata": {},
     "output_type": "display_data"
    }
   ],
   "source": [
    "plt.figure(figsize=(7,4))\n",
    "sns.histplot(df[\"YearBuilt\"])"
   ]
  },
  {
   "cell_type": "markdown",
   "id": "4be19df6",
   "metadata": {
    "papermill": {
     "duration": 0.010615,
     "end_time": "2022-10-04T11:21:41.676818",
     "exception": false,
     "start_time": "2022-10-04T11:21:41.666203",
     "status": "completed"
    },
    "tags": []
   },
   "source": [
    "## Clean Data"
   ]
  },
  {
   "cell_type": "code",
   "execution_count": 8,
   "id": "a0894973",
   "metadata": {
    "execution": {
     "iopub.execute_input": "2022-10-04T11:21:41.700519Z",
     "iopub.status.busy": "2022-10-04T11:21:41.699670Z",
     "iopub.status.idle": "2022-10-04T11:21:41.705790Z",
     "shell.execute_reply": "2022-10-04T11:21:41.704831Z"
    },
    "papermill": {
     "duration": 0.020198,
     "end_time": "2022-10-04T11:21:41.707961",
     "exception": false,
     "start_time": "2022-10-04T11:21:41.687763",
     "status": "completed"
    },
    "tags": []
   },
   "outputs": [],
   "source": [
    "def clean(df):\n",
    "    df[\"Exterior2nd\"] = df[\"Exterior2nd\"].replace({\"Brk Cmn\": \"BrkComm\"})\n",
    "    # Some values of GarageYrBlt are corrupt, so we'll replace them\n",
    "    # with the year the house was built\n",
    "    df[\"GarageYrBlt\"] = df[\"GarageYrBlt\"].where(df.GarageYrBlt <= 2010, df.YearBuilt)\n",
    "    # Names beginning with numbers are awkward to work with\n",
    "    df.rename(columns={\n",
    "        \"1stFlrSF\": \"FirstFlrSF\",\n",
    "        \"2ndFlrSF\": \"SecondFlrSF\",\n",
    "        \"3SsnPorch\": \"Threeseasonporch\",\n",
    "    }, inplace=True,\n",
    "    )\n",
    "    return df"
   ]
  },
  {
   "cell_type": "markdown",
   "id": "0587e0b4",
   "metadata": {
    "papermill": {
     "duration": 0.010422,
     "end_time": "2022-10-04T11:21:41.729447",
     "exception": false,
     "start_time": "2022-10-04T11:21:41.719025",
     "status": "completed"
    },
    "tags": []
   },
   "source": [
    "## Encode the Statistical Data Type"
   ]
  },
  {
   "cell_type": "code",
   "execution_count": 9,
   "id": "8ccc1746",
   "metadata": {
    "execution": {
     "iopub.execute_input": "2022-10-04T11:21:41.752138Z",
     "iopub.status.busy": "2022-10-04T11:21:41.751862Z",
     "iopub.status.idle": "2022-10-04T11:21:41.763963Z",
     "shell.execute_reply": "2022-10-04T11:21:41.763104Z"
    },
    "papermill": {
     "duration": 0.025899,
     "end_time": "2022-10-04T11:21:41.765974",
     "exception": false,
     "start_time": "2022-10-04T11:21:41.740075",
     "status": "completed"
    },
    "tags": []
   },
   "outputs": [],
   "source": [
    "# The nominative (unordered) categorical features\n",
    "features_nom = [\"MSSubClass\", \"MSZoning\", \"Street\", \"Alley\", \"LandContour\", \"LotConfig\", \n",
    "                \"Neighborhood\", \"Condition1\", \"Condition2\", \"BldgType\", \"HouseStyle\", \n",
    "                \"RoofStyle\", \"RoofMatl\", \"Exterior1st\", \"Exterior2nd\", \"MasVnrType\", \n",
    "                \"Foundation\", \"Heating\", \"CentralAir\", \"GarageType\", \"MiscFeature\", \n",
    "                \"SaleType\", \"SaleCondition\"]\n",
    "\n",
    "\n",
    "# The ordinal (ordered) categorical features \n",
    "\n",
    "# Pandas calls the categories \"levels\"\n",
    "five_levels = [\"Po\", \"Fa\", \"TA\", \"Gd\", \"Ex\"]\n",
    "ten_levels = list(range(10))\n",
    "\n",
    "ordered_levels = {\n",
    "    \"OverallQual\": ten_levels,\n",
    "    \"OverallCond\": ten_levels,\n",
    "    \"ExterQual\": five_levels,\n",
    "    \"ExterCond\": five_levels,\n",
    "    \"BsmtQual\": five_levels,\n",
    "    \"BsmtCond\": five_levels,\n",
    "    \"HeatingQC\": five_levels,\n",
    "    \"KitchenQual\": five_levels,\n",
    "    \"FireplaceQu\": five_levels,\n",
    "    \"GarageQual\": five_levels,\n",
    "    \"GarageCond\": five_levels,\n",
    "    \"PoolQC\": five_levels,\n",
    "    \"LotShape\": [\"Reg\", \"IR1\", \"IR2\", \"IR3\"],\n",
    "    \"LandSlope\": [\"Sev\", \"Mod\", \"Gtl\"],\n",
    "    \"BsmtExposure\": [\"No\", \"Mn\", \"Av\", \"Gd\"],\n",
    "    \"BsmtFinType1\": [\"Unf\", \"LwQ\", \"Rec\", \"BLQ\", \"ALQ\", \"GLQ\"],\n",
    "    \"BsmtFinType2\": [\"Unf\", \"LwQ\", \"Rec\", \"BLQ\", \"ALQ\", \"GLQ\"],\n",
    "    \"Functional\": [\"Sal\", \"Sev\", \"Maj1\", \"Maj2\", \"Mod\", \"Min2\", \"Min1\", \"Typ\"],\n",
    "    \"GarageFinish\": [\"Unf\", \"RFn\", \"Fin\"],\n",
    "    \"PavedDrive\": [\"N\", \"P\", \"Y\"],\n",
    "    \"Utilities\": [\"NoSeWa\", \"NoSewr\", \"AllPub\"],\n",
    "    \"CentralAir\": [\"N\", \"Y\"],\n",
    "    \"Electrical\": [\"Mix\", \"FuseP\", \"FuseF\", \"FuseA\", \"SBrkr\"],\n",
    "    \"Fence\": [\"MnWw\", \"GdWo\", \"MnPrv\", \"GdPrv\"],\n",
    "}\n",
    "\n",
    "# Add a None level for missing values\n",
    "ordered_levels = {key: [\"None\"] + value for key, value in\n",
    "                  ordered_levels.items()}\n",
    "\n",
    "\n",
    "def encode(df):\n",
    "    # Nominal categories\n",
    "    for name in features_nom:\n",
    "        df[name] = df[name].astype(\"category\")\n",
    "        # Add a None category for missing values\n",
    "        if \"None\" not in df[name].cat.categories:\n",
    "            df[name].cat.add_categories(\"None\", inplace=True)\n",
    "    # Ordinal categories\n",
    "    for name, levels in ordered_levels.items():\n",
    "        df[name] = df[name].astype(CategoricalDtype(levels,\n",
    "                                                    ordered=True))\n",
    "    return df\n"
   ]
  },
  {
   "cell_type": "markdown",
   "id": "ba40baa2",
   "metadata": {
    "papermill": {
     "duration": 0.010619,
     "end_time": "2022-10-04T11:21:41.787537",
     "exception": false,
     "start_time": "2022-10-04T11:21:41.776918",
     "status": "completed"
    },
    "tags": []
   },
   "source": [
    "## Handle Missing Values"
   ]
  },
  {
   "cell_type": "code",
   "execution_count": 10,
   "id": "ef570080",
   "metadata": {
    "execution": {
     "iopub.execute_input": "2022-10-04T11:21:41.810644Z",
     "iopub.status.busy": "2022-10-04T11:21:41.809869Z",
     "iopub.status.idle": "2022-10-04T11:21:41.851003Z",
     "shell.execute_reply": "2022-10-04T11:21:41.849896Z"
    },
    "papermill": {
     "duration": 0.055648,
     "end_time": "2022-10-04T11:21:41.853811",
     "exception": false,
     "start_time": "2022-10-04T11:21:41.798163",
     "status": "completed"
    },
    "tags": []
   },
   "outputs": [
    {
     "name": "stdout",
     "output_type": "stream",
     "text": [
      "LotFrontage: 0.1773972602739726\n",
      "\n",
      "Alley: 0.9376712328767123\n",
      "\n",
      "MasVnrType: 0.005479452054794521\n",
      "\n",
      "MasVnrArea: 0.005479452054794521\n",
      "\n",
      "BsmtQual: 0.025342465753424658\n",
      "\n",
      "BsmtCond: 0.025342465753424658\n",
      "\n",
      "BsmtExposure: 0.026027397260273973\n",
      "\n",
      "BsmtFinType1: 0.025342465753424658\n",
      "\n",
      "BsmtFinType2: 0.026027397260273973\n",
      "\n",
      "Electrical: 0.0006849315068493151\n",
      "\n",
      "FireplaceQu: 0.4726027397260274\n",
      "\n",
      "GarageType: 0.05547945205479452\n",
      "\n",
      "GarageYrBlt: 0.05547945205479452\n",
      "\n",
      "GarageFinish: 0.05547945205479452\n",
      "\n",
      "GarageQual: 0.05547945205479452\n",
      "\n",
      "GarageCond: 0.05547945205479452\n",
      "\n",
      "PoolQC: 0.9952054794520548\n",
      "\n",
      "Fence: 0.8075342465753425\n",
      "\n",
      "MiscFeature: 0.963013698630137\n",
      "\n"
     ]
    }
   ],
   "source": [
    "# Check the percentage of missing\n",
    "columns_ = list(df.columns)\n",
    "for col in columns_:\n",
    "    if df[col].isnull().mean() != 0.0:\n",
    "        print(f\"{col}: {df[col].isnull().mean()}\")\n",
    "        print()"
   ]
  },
  {
   "cell_type": "code",
   "execution_count": 11,
   "id": "c9202104",
   "metadata": {
    "execution": {
     "iopub.execute_input": "2022-10-04T11:21:41.878407Z",
     "iopub.status.busy": "2022-10-04T11:21:41.877712Z",
     "iopub.status.idle": "2022-10-04T11:21:41.883591Z",
     "shell.execute_reply": "2022-10-04T11:21:41.882630Z"
    },
    "papermill": {
     "duration": 0.019708,
     "end_time": "2022-10-04T11:21:41.885565",
     "exception": false,
     "start_time": "2022-10-04T11:21:41.865857",
     "status": "completed"
    },
    "tags": []
   },
   "outputs": [],
   "source": [
    "def impute(df):\n",
    "    for name in df.select_dtypes(\"number\"):\n",
    "        # df[name] = df[name].fillna(df[name].median())\n",
    "        df[name] = df[name].fillna(0)\n",
    "        \n",
    "    for name in df.select_dtypes(\"category\"):\n",
    "        # df[name] = df[name].fillna(df[name].value_counts().idxmax())\n",
    "        df[name] = df[name].fillna(\"None\")\n",
    "    return df"
   ]
  },
  {
   "cell_type": "code",
   "execution_count": 12,
   "id": "77143ce6",
   "metadata": {
    "execution": {
     "iopub.execute_input": "2022-10-04T11:21:41.908514Z",
     "iopub.status.busy": "2022-10-04T11:21:41.908211Z",
     "iopub.status.idle": "2022-10-04T11:21:41.915307Z",
     "shell.execute_reply": "2022-10-04T11:21:41.914424Z"
    },
    "papermill": {
     "duration": 0.021035,
     "end_time": "2022-10-04T11:21:41.917408",
     "exception": false,
     "start_time": "2022-10-04T11:21:41.896373",
     "status": "completed"
    },
    "tags": []
   },
   "outputs": [],
   "source": [
    "def load_data():\n",
    "    # Read data\n",
    "    data_dir = Path(\"../input/house-prices-advanced-regression-techniques/\")\n",
    "    df_train = pd.read_csv(data_dir / \"train.csv\", index_col=\"Id\")\n",
    "    df_test = pd.read_csv(data_dir / \"test.csv\", index_col=\"Id\")\n",
    "    # Merge the splits so we can process them together\n",
    "    df = pd.concat([df_train, df_test])\n",
    "    # Preprocessing\n",
    "    df = clean(df)\n",
    "    df = encode(df)\n",
    "    df = impute(df)\n",
    "    # Reform splits\n",
    "    df_train = df.loc[df_train.index, :]\n",
    "    df_test = df.loc[df_test.index, :]\n",
    "    return df_train, df_test"
   ]
  },
  {
   "cell_type": "code",
   "execution_count": 13,
   "id": "f94fe414",
   "metadata": {
    "execution": {
     "iopub.execute_input": "2022-10-04T11:21:41.940277Z",
     "iopub.status.busy": "2022-10-04T11:21:41.940007Z",
     "iopub.status.idle": "2022-10-04T11:21:42.100712Z",
     "shell.execute_reply": "2022-10-04T11:21:42.099652Z"
    },
    "papermill": {
     "duration": 0.175292,
     "end_time": "2022-10-04T11:21:42.103430",
     "exception": false,
     "start_time": "2022-10-04T11:21:41.928138",
     "status": "completed"
    },
    "tags": []
   },
   "outputs": [
    {
     "name": "stderr",
     "output_type": "stream",
     "text": [
      "/opt/conda/lib/python3.7/site-packages/pandas/core/arrays/categorical.py:2631: FutureWarning: The `inplace` parameter in pandas.Categorical.add_categories is deprecated and will be removed in a future version. Removing unused categories will always return a new Categorical object.\n",
      "  res = method(*args, **kwargs)\n"
     ]
    }
   ],
   "source": [
    "# Load Data\n",
    "\n",
    "df_train, df_test = load_data()"
   ]
  },
  {
   "cell_type": "code",
   "execution_count": 14,
   "id": "4df1b92e",
   "metadata": {
    "execution": {
     "iopub.execute_input": "2022-10-04T11:21:42.128094Z",
     "iopub.status.busy": "2022-10-04T11:21:42.127276Z",
     "iopub.status.idle": "2022-10-04T11:21:42.153220Z",
     "shell.execute_reply": "2022-10-04T11:21:42.152170Z"
    },
    "papermill": {
     "duration": 0.040418,
     "end_time": "2022-10-04T11:21:42.155688",
     "exception": false,
     "start_time": "2022-10-04T11:21:42.115270",
     "status": "completed"
    },
    "tags": []
   },
   "outputs": [
    {
     "data": {
      "text/html": [
       "<div>\n",
       "<style scoped>\n",
       "    .dataframe tbody tr th:only-of-type {\n",
       "        vertical-align: middle;\n",
       "    }\n",
       "\n",
       "    .dataframe tbody tr th {\n",
       "        vertical-align: top;\n",
       "    }\n",
       "\n",
       "    .dataframe thead th {\n",
       "        text-align: right;\n",
       "    }\n",
       "</style>\n",
       "<table border=\"1\" class=\"dataframe\">\n",
       "  <thead>\n",
       "    <tr style=\"text-align: right;\">\n",
       "      <th></th>\n",
       "      <th>MSSubClass</th>\n",
       "      <th>MSZoning</th>\n",
       "      <th>LotFrontage</th>\n",
       "      <th>LotArea</th>\n",
       "      <th>Street</th>\n",
       "      <th>Alley</th>\n",
       "      <th>LotShape</th>\n",
       "      <th>LandContour</th>\n",
       "      <th>Utilities</th>\n",
       "      <th>LotConfig</th>\n",
       "      <th>...</th>\n",
       "      <th>PoolArea</th>\n",
       "      <th>PoolQC</th>\n",
       "      <th>Fence</th>\n",
       "      <th>MiscFeature</th>\n",
       "      <th>MiscVal</th>\n",
       "      <th>MoSold</th>\n",
       "      <th>YrSold</th>\n",
       "      <th>SaleType</th>\n",
       "      <th>SaleCondition</th>\n",
       "      <th>SalePrice</th>\n",
       "    </tr>\n",
       "    <tr>\n",
       "      <th>Id</th>\n",
       "      <th></th>\n",
       "      <th></th>\n",
       "      <th></th>\n",
       "      <th></th>\n",
       "      <th></th>\n",
       "      <th></th>\n",
       "      <th></th>\n",
       "      <th></th>\n",
       "      <th></th>\n",
       "      <th></th>\n",
       "      <th></th>\n",
       "      <th></th>\n",
       "      <th></th>\n",
       "      <th></th>\n",
       "      <th></th>\n",
       "      <th></th>\n",
       "      <th></th>\n",
       "      <th></th>\n",
       "      <th></th>\n",
       "      <th></th>\n",
       "      <th></th>\n",
       "    </tr>\n",
       "  </thead>\n",
       "  <tbody>\n",
       "    <tr>\n",
       "      <th>1</th>\n",
       "      <td>60</td>\n",
       "      <td>RL</td>\n",
       "      <td>65.0</td>\n",
       "      <td>8450</td>\n",
       "      <td>Pave</td>\n",
       "      <td>None</td>\n",
       "      <td>Reg</td>\n",
       "      <td>Lvl</td>\n",
       "      <td>AllPub</td>\n",
       "      <td>Inside</td>\n",
       "      <td>...</td>\n",
       "      <td>0</td>\n",
       "      <td>None</td>\n",
       "      <td>None</td>\n",
       "      <td>None</td>\n",
       "      <td>0</td>\n",
       "      <td>2</td>\n",
       "      <td>2008</td>\n",
       "      <td>WD</td>\n",
       "      <td>Normal</td>\n",
       "      <td>208500.0</td>\n",
       "    </tr>\n",
       "    <tr>\n",
       "      <th>2</th>\n",
       "      <td>20</td>\n",
       "      <td>RL</td>\n",
       "      <td>80.0</td>\n",
       "      <td>9600</td>\n",
       "      <td>Pave</td>\n",
       "      <td>None</td>\n",
       "      <td>Reg</td>\n",
       "      <td>Lvl</td>\n",
       "      <td>AllPub</td>\n",
       "      <td>FR2</td>\n",
       "      <td>...</td>\n",
       "      <td>0</td>\n",
       "      <td>None</td>\n",
       "      <td>None</td>\n",
       "      <td>None</td>\n",
       "      <td>0</td>\n",
       "      <td>5</td>\n",
       "      <td>2007</td>\n",
       "      <td>WD</td>\n",
       "      <td>Normal</td>\n",
       "      <td>181500.0</td>\n",
       "    </tr>\n",
       "    <tr>\n",
       "      <th>3</th>\n",
       "      <td>60</td>\n",
       "      <td>RL</td>\n",
       "      <td>68.0</td>\n",
       "      <td>11250</td>\n",
       "      <td>Pave</td>\n",
       "      <td>None</td>\n",
       "      <td>IR1</td>\n",
       "      <td>Lvl</td>\n",
       "      <td>AllPub</td>\n",
       "      <td>Inside</td>\n",
       "      <td>...</td>\n",
       "      <td>0</td>\n",
       "      <td>None</td>\n",
       "      <td>None</td>\n",
       "      <td>None</td>\n",
       "      <td>0</td>\n",
       "      <td>9</td>\n",
       "      <td>2008</td>\n",
       "      <td>WD</td>\n",
       "      <td>Normal</td>\n",
       "      <td>223500.0</td>\n",
       "    </tr>\n",
       "    <tr>\n",
       "      <th>4</th>\n",
       "      <td>70</td>\n",
       "      <td>RL</td>\n",
       "      <td>60.0</td>\n",
       "      <td>9550</td>\n",
       "      <td>Pave</td>\n",
       "      <td>None</td>\n",
       "      <td>IR1</td>\n",
       "      <td>Lvl</td>\n",
       "      <td>AllPub</td>\n",
       "      <td>Corner</td>\n",
       "      <td>...</td>\n",
       "      <td>0</td>\n",
       "      <td>None</td>\n",
       "      <td>None</td>\n",
       "      <td>None</td>\n",
       "      <td>0</td>\n",
       "      <td>2</td>\n",
       "      <td>2006</td>\n",
       "      <td>WD</td>\n",
       "      <td>Abnorml</td>\n",
       "      <td>140000.0</td>\n",
       "    </tr>\n",
       "    <tr>\n",
       "      <th>5</th>\n",
       "      <td>60</td>\n",
       "      <td>RL</td>\n",
       "      <td>84.0</td>\n",
       "      <td>14260</td>\n",
       "      <td>Pave</td>\n",
       "      <td>None</td>\n",
       "      <td>IR1</td>\n",
       "      <td>Lvl</td>\n",
       "      <td>AllPub</td>\n",
       "      <td>FR2</td>\n",
       "      <td>...</td>\n",
       "      <td>0</td>\n",
       "      <td>None</td>\n",
       "      <td>None</td>\n",
       "      <td>None</td>\n",
       "      <td>0</td>\n",
       "      <td>12</td>\n",
       "      <td>2008</td>\n",
       "      <td>WD</td>\n",
       "      <td>Normal</td>\n",
       "      <td>250000.0</td>\n",
       "    </tr>\n",
       "  </tbody>\n",
       "</table>\n",
       "<p>5 rows × 80 columns</p>\n",
       "</div>"
      ],
      "text/plain": [
       "   MSSubClass MSZoning  LotFrontage  LotArea Street Alley LotShape  \\\n",
       "Id                                                                   \n",
       "1          60       RL         65.0     8450   Pave  None      Reg   \n",
       "2          20       RL         80.0     9600   Pave  None      Reg   \n",
       "3          60       RL         68.0    11250   Pave  None      IR1   \n",
       "4          70       RL         60.0     9550   Pave  None      IR1   \n",
       "5          60       RL         84.0    14260   Pave  None      IR1   \n",
       "\n",
       "   LandContour Utilities LotConfig  ... PoolArea PoolQC Fence MiscFeature  \\\n",
       "Id                                  ...                                     \n",
       "1          Lvl    AllPub    Inside  ...        0   None  None        None   \n",
       "2          Lvl    AllPub       FR2  ...        0   None  None        None   \n",
       "3          Lvl    AllPub    Inside  ...        0   None  None        None   \n",
       "4          Lvl    AllPub    Corner  ...        0   None  None        None   \n",
       "5          Lvl    AllPub       FR2  ...        0   None  None        None   \n",
       "\n",
       "   MiscVal MoSold YrSold SaleType  SaleCondition  SalePrice  \n",
       "Id                                                           \n",
       "1        0      2   2008       WD         Normal   208500.0  \n",
       "2        0      5   2007       WD         Normal   181500.0  \n",
       "3        0      9   2008       WD         Normal   223500.0  \n",
       "4        0      2   2006       WD        Abnorml   140000.0  \n",
       "5        0     12   2008       WD         Normal   250000.0  \n",
       "\n",
       "[5 rows x 80 columns]"
      ]
     },
     "execution_count": 14,
     "metadata": {},
     "output_type": "execute_result"
    }
   ],
   "source": [
    "df_train.head()"
   ]
  },
  {
   "cell_type": "code",
   "execution_count": 15,
   "id": "f8266cdf",
   "metadata": {
    "execution": {
     "iopub.execute_input": "2022-10-04T11:21:42.180921Z",
     "iopub.status.busy": "2022-10-04T11:21:42.180000Z",
     "iopub.status.idle": "2022-10-04T11:21:42.582814Z",
     "shell.execute_reply": "2022-10-04T11:21:42.581905Z"
    },
    "papermill": {
     "duration": 0.417017,
     "end_time": "2022-10-04T11:21:42.584752",
     "exception": false,
     "start_time": "2022-10-04T11:21:42.167735",
     "status": "completed"
    },
    "tags": []
   },
   "outputs": [
    {
     "data": {
      "text/plain": [
       "<AxesSubplot:xlabel='SalePrice', ylabel='Count'>"
      ]
     },
     "execution_count": 15,
     "metadata": {},
     "output_type": "execute_result"
    },
    {
     "data": {
      "image/png": "[encoded data removed]",
      "text/plain": [
       "<Figure size 648x432 with 1 Axes>"
      ]
     },
     "metadata": {},
     "output_type": "display_data"
    }
   ],
   "source": [
    "# SalesPrice label distrubition visualizing\n",
    "plt.figure(figsize=(9,6))\n",
    "sns.histplot(df_train[\"SalePrice\"])"
   ]
  },
  {
   "cell_type": "markdown",
   "id": "c5ee398c",
   "metadata": {
    "papermill": {
     "duration": 0.011761,
     "end_time": "2022-10-04T11:21:42.608414",
     "exception": false,
     "start_time": "2022-10-04T11:21:42.596653",
     "status": "completed"
    },
    "tags": []
   },
   "source": [
    "## Establish Baseline"
   ]
  },
  {
   "cell_type": "code",
   "execution_count": 16,
   "id": "28ce30d8",
   "metadata": {
    "execution": {
     "iopub.execute_input": "2022-10-04T11:21:42.633562Z",
     "iopub.status.busy": "2022-10-04T11:21:42.632675Z",
     "iopub.status.idle": "2022-10-04T11:21:42.639513Z",
     "shell.execute_reply": "2022-10-04T11:21:42.638406Z"
    },
    "papermill": {
     "duration": 0.021261,
     "end_time": "2022-10-04T11:21:42.641634",
     "exception": false,
     "start_time": "2022-10-04T11:21:42.620373",
     "status": "completed"
    },
    "tags": []
   },
   "outputs": [],
   "source": [
    "def score_dataset(X, y, model=XGBRegressor()):\n",
    "    \n",
    "    # Label encoding for categoricals\n",
    "    #\n",
    "    # Label encoding is good for XGBoost and RandomForest, but one-hot\n",
    "    # would be better for models like Lasso or Ridge. The `cat.codes`\n",
    "    # attribute holds the category levels.\n",
    "    for colname in X.select_dtypes([\"category\"]):\n",
    "        X[colname] = X[colname].cat.codes\n",
    "    \n",
    "    # Metric for RMSLE (Root Mean Squared Log Error)\n",
    "    log_y = np.log(y)\n",
    "    score = cross_val_score(\n",
    "        model, X, log_y, cv=5, scoring=\"neg_mean_squared_error\",\n",
    "    )\n",
    "    score = -1 * score.mean()\n",
    "    score = np.sqrt(score)\n",
    "    return score"
   ]
  },
  {
   "cell_type": "code",
   "execution_count": 17,
   "id": "7b2da184",
   "metadata": {
    "execution": {
     "iopub.execute_input": "2022-10-04T11:21:42.665589Z",
     "iopub.status.busy": "2022-10-04T11:21:42.665313Z",
     "iopub.status.idle": "2022-10-04T11:21:47.723419Z",
     "shell.execute_reply": "2022-10-04T11:21:47.722106Z"
    },
    "papermill": {
     "duration": 5.074111,
     "end_time": "2022-10-04T11:21:47.727182",
     "exception": false,
     "start_time": "2022-10-04T11:21:42.653071",
     "status": "completed"
    },
    "tags": []
   },
   "outputs": [
    {
     "name": "stdout",
     "output_type": "stream",
     "text": [
      "Baseline score: 0.14351 RMSLE\n"
     ]
    }
   ],
   "source": [
    "X = df_train.copy()\n",
    "y = X.pop(\"SalePrice\")\n",
    "\n",
    "baseline_score = score_dataset(X, y)\n",
    "print(f\"Baseline score: {baseline_score:.5f} RMSLE\")"
   ]
  },
  {
   "cell_type": "markdown",
   "id": "67e3c296",
   "metadata": {
    "papermill": {
     "duration": 0.011289,
     "end_time": "2022-10-04T11:21:47.753674",
     "exception": false,
     "start_time": "2022-10-04T11:21:47.742385",
     "status": "completed"
    },
    "tags": []
   },
   "source": [
    "# Step 2 - Feature Utility Scores"
   ]
  },
  {
   "cell_type": "code",
   "execution_count": 18,
   "id": "96c6bf44",
   "metadata": {
    "execution": {
     "iopub.execute_input": "2022-10-04T11:21:47.778505Z",
     "iopub.status.busy": "2022-10-04T11:21:47.778194Z",
     "iopub.status.idle": "2022-10-04T11:21:47.787180Z",
     "shell.execute_reply": "2022-10-04T11:21:47.786063Z"
    },
    "papermill": {
     "duration": 0.024615,
     "end_time": "2022-10-04T11:21:47.789864",
     "exception": false,
     "start_time": "2022-10-04T11:21:47.765249",
     "status": "completed"
    },
    "tags": []
   },
   "outputs": [],
   "source": [
    "\n",
    "def make_mi_scores(X, y):\n",
    "    X = X.copy()\n",
    "    for colname in X.select_dtypes([\"object\", \"category\"]):\n",
    "        X[colname], _ = X[colname].factorize()\n",
    "    # All discrete features should now have integer dtypes\n",
    "    discrete_features = [pd.api.types.is_integer_dtype(t) for t in X.dtypes]\n",
    "    mi_scores = mutual_info_regression(X, y, discrete_features=discrete_features, random_state=0)\n",
    "    mi_scores = pd.Series(mi_scores, name=\"MI Scores\", index=X.columns)\n",
    "    mi_scores = mi_scores.sort_values(ascending=False)\n",
    "    return mi_scores\n",
    "\n",
    "\n",
    "def plot_mi_scores(scores):\n",
    "    scores = scores.sort_values(ascending=True)\n",
    "    width = np.arange(len(scores))\n",
    "    ticks = list(scores.index)\n",
    "    plt.barh(width, scores)\n",
    "    plt.yticks(width, ticks)\n",
    "    plt.title(\"Mutual Information Scores\")"
   ]
  },
  {
   "cell_type": "code",
   "execution_count": 19,
   "id": "93e66540",
   "metadata": {
    "execution": {
     "iopub.execute_input": "2022-10-04T11:21:47.816431Z",
     "iopub.status.busy": "2022-10-04T11:21:47.814626Z",
     "iopub.status.idle": "2022-10-04T11:21:49.263728Z",
     "shell.execute_reply": "2022-10-04T11:21:49.262652Z"
    },
    "papermill": {
     "duration": 1.464227,
     "end_time": "2022-10-04T11:21:49.265975",
     "exception": false,
     "start_time": "2022-10-04T11:21:47.801748",
     "status": "completed"
    },
    "tags": []
   },
   "outputs": [
    {
     "data": {
      "text/plain": [
       "OverallQual     0.571457\n",
       "Neighborhood    0.526220\n",
       "GrLivArea       0.430395\n",
       "YearBuilt       0.407974\n",
       "LotArea         0.394468\n",
       "                  ...   \n",
       "PoolQC          0.000000\n",
       "MiscFeature     0.000000\n",
       "MiscVal         0.000000\n",
       "MoSold          0.000000\n",
       "YrSold          0.000000\n",
       "Name: MI Scores, Length: 79, dtype: float64"
      ]
     },
     "execution_count": 19,
     "metadata": {},
     "output_type": "execute_result"
    }
   ],
   "source": [
    "X = df_train.copy()\n",
    "y = X.pop(\"SalePrice\")\n",
    "\n",
    "mi_scores = make_mi_scores(X, y)\n",
    "mi_scores"
   ]
  },
  {
   "cell_type": "code",
   "execution_count": 20,
   "id": "e33c912b",
   "metadata": {
    "execution": {
     "iopub.execute_input": "2022-10-04T11:21:49.291799Z",
     "iopub.status.busy": "2022-10-04T11:21:49.290976Z",
     "iopub.status.idle": "2022-10-04T11:21:49.722811Z",
     "shell.execute_reply": "2022-10-04T11:21:49.721844Z"
    },
    "papermill": {
     "duration": 0.446955,
     "end_time": "2022-10-04T11:21:49.725179",
     "exception": false,
     "start_time": "2022-10-04T11:21:49.278224",
     "status": "completed"
    },
    "tags": []
   },
   "outputs": [
    {
     "data": {
      "image/png": "[encoded data removed]",
      "text/plain": [
       "<Figure size 800x500 with 1 Axes>"
      ]
     },
     "metadata": {},
     "output_type": "display_data"
    }
   ],
   "source": [
    "plt.figure(dpi=100, figsize=(8, 5))\n",
    "plot_mi_scores(mi_scores.head(25))"
   ]
  },
  {
   "cell_type": "code",
   "execution_count": 21,
   "id": "454d7654",
   "metadata": {
    "execution": {
     "iopub.execute_input": "2022-10-04T11:21:49.752093Z",
     "iopub.status.busy": "2022-10-04T11:21:49.751795Z",
     "iopub.status.idle": "2022-10-04T11:21:49.756448Z",
     "shell.execute_reply": "2022-10-04T11:21:49.755472Z"
    },
    "papermill": {
     "duration": 0.020307,
     "end_time": "2022-10-04T11:21:49.758426",
     "exception": false,
     "start_time": "2022-10-04T11:21:49.738119",
     "status": "completed"
    },
    "tags": []
   },
   "outputs": [],
   "source": [
    "def drop_uninformative(df, mi_scores):\n",
    "    return df.loc[:, mi_scores > 0.0]"
   ]
  },
  {
   "cell_type": "code",
   "execution_count": 22,
   "id": "426d1bc0",
   "metadata": {
    "execution": {
     "iopub.execute_input": "2022-10-04T11:21:49.785600Z",
     "iopub.status.busy": "2022-10-04T11:21:49.784823Z",
     "iopub.status.idle": "2022-10-04T11:21:52.740345Z",
     "shell.execute_reply": "2022-10-04T11:21:52.738978Z"
    },
    "papermill": {
     "duration": 2.971746,
     "end_time": "2022-10-04T11:21:52.742883",
     "exception": false,
     "start_time": "2022-10-04T11:21:49.771137",
     "status": "completed"
    },
    "tags": []
   },
   "outputs": [
    {
     "data": {
      "text/plain": [
       "0.14338026718687275"
      ]
     },
     "execution_count": 22,
     "metadata": {},
     "output_type": "execute_result"
    }
   ],
   "source": [
    "X = df_train.copy()\n",
    "y = X.pop(\"SalePrice\")\n",
    "X = drop_uninformative(X, mi_scores)\n",
    "\n",
    "score_dataset(X, y)"
   ]
  },
  {
   "cell_type": "markdown",
   "id": "51d4093d",
   "metadata": {
    "papermill": {
     "duration": 0.013471,
     "end_time": "2022-10-04T11:21:52.771451",
     "exception": false,
     "start_time": "2022-10-04T11:21:52.757980",
     "status": "completed"
    },
    "tags": []
   },
   "source": [
    "# Step 3 - Create Features"
   ]
  },
  {
   "cell_type": "code",
   "execution_count": 23,
   "id": "70977274",
   "metadata": {
    "execution": {
     "iopub.execute_input": "2022-10-04T11:21:52.797715Z",
     "iopub.status.busy": "2022-10-04T11:21:52.797393Z",
     "iopub.status.idle": "2022-10-04T11:21:52.802726Z",
     "shell.execute_reply": "2022-10-04T11:21:52.801564Z"
    },
    "papermill": {
     "duration": 0.021068,
     "end_time": "2022-10-04T11:21:52.805015",
     "exception": false,
     "start_time": "2022-10-04T11:21:52.783947",
     "status": "completed"
    },
    "tags": []
   },
   "outputs": [],
   "source": [
    "def label_encode(df):\n",
    "    X = df.copy()\n",
    "    for colname in X.select_dtypes([\"category\"]):\n",
    "        X[colname] = X[colname].cat.codes\n",
    "    return X"
   ]
  },
  {
   "cell_type": "markdown",
   "id": "21d057ac",
   "metadata": {
    "papermill": {
     "duration": 0.012203,
     "end_time": "2022-10-04T11:21:52.829611",
     "exception": false,
     "start_time": "2022-10-04T11:21:52.817408",
     "status": "completed"
    },
    "tags": []
   },
   "source": [
    "## Create Features with Pandas"
   ]
  },
  {
   "cell_type": "code",
   "execution_count": 24,
   "id": "c1f3e17a",
   "metadata": {
    "execution": {
     "iopub.execute_input": "2022-10-04T11:21:52.856232Z",
     "iopub.status.busy": "2022-10-04T11:21:52.855579Z",
     "iopub.status.idle": "2022-10-04T11:21:52.864948Z",
     "shell.execute_reply": "2022-10-04T11:21:52.864114Z"
    },
    "papermill": {
     "duration": 0.024554,
     "end_time": "2022-10-04T11:21:52.866956",
     "exception": false,
     "start_time": "2022-10-04T11:21:52.842402",
     "status": "completed"
    },
    "tags": []
   },
   "outputs": [],
   "source": [
    "def mathematical_transforms(df):\n",
    "    X = pd.DataFrame()  # dataframe to hold new features\n",
    "    X[\"LivLotRatio\"] = df.GrLivArea / df.LotArea\n",
    "    X[\"Spaciousness\"] = (df.FirstFlrSF + df.SecondFlrSF) / df.TotRmsAbvGrd\n",
    "    # This feature ended up not helping performance\n",
    "    # X[\"TotalOutsideSF\"] = \\\n",
    "    #     df.WoodDeckSF + df.OpenPorchSF + df.EnclosedPorch + \\\n",
    "    #     df.Threeseasonporch + df.ScreenPorch\n",
    "    return X\n",
    "\n",
    "\n",
    "def interactions(df):\n",
    "    X = pd.get_dummies(df.BldgType, prefix=\"Bldg\")\n",
    "    X = X.mul(df.GrLivArea, axis=0)\n",
    "    return X\n",
    "\n",
    "\n",
    "def counts(df):\n",
    "    X = pd.DataFrame()\n",
    "    X[\"PorchTypes\"] = df[[\n",
    "        \"WoodDeckSF\",\n",
    "        \"OpenPorchSF\",\n",
    "        \"EnclosedPorch\",\n",
    "        \"Threeseasonporch\",\n",
    "        \"ScreenPorch\",\n",
    "    ]].gt(0.0).sum(axis=1)\n",
    "    return X\n",
    "\n",
    "\n",
    "def break_down(df):\n",
    "    X = pd.DataFrame()\n",
    "    X[\"MSClass\"] = df.MSSubClass.str.split(\"_\", n=1, expand=True)[0]\n",
    "    return X\n",
    "\n",
    "\n",
    "def group_transforms(df):\n",
    "    X = pd.DataFrame()\n",
    "    X[\"MedNhbdArea\"] = df.groupby(\"Neighborhood\")[\"GrLivArea\"].transform(\"median\")\n",
    "    return X\n"
   ]
  },
  {
   "cell_type": "markdown",
   "id": "07f7d2a4",
   "metadata": {
    "papermill": {
     "duration": 0.012609,
     "end_time": "2022-10-04T11:21:52.892067",
     "exception": false,
     "start_time": "2022-10-04T11:21:52.879458",
     "status": "completed"
    },
    "tags": []
   },
   "source": [
    "## k-Means Clustering"
   ]
  },
  {
   "cell_type": "code",
   "execution_count": 25,
   "id": "5749e7e2",
   "metadata": {
    "execution": {
     "iopub.execute_input": "2022-10-04T11:21:52.918361Z",
     "iopub.status.busy": "2022-10-04T11:21:52.918095Z",
     "iopub.status.idle": "2022-10-04T11:21:52.926343Z",
     "shell.execute_reply": "2022-10-04T11:21:52.925387Z"
    },
    "papermill": {
     "duration": 0.02376,
     "end_time": "2022-10-04T11:21:52.928398",
     "exception": false,
     "start_time": "2022-10-04T11:21:52.904638",
     "status": "completed"
    },
    "tags": []
   },
   "outputs": [],
   "source": [
    "cluster_features = [\n",
    "    \"LotArea\",\n",
    "    \"TotalBsmtSF\",\n",
    "    \"FirstFlrSF\",\n",
    "    \"SecondFlrSF\",\n",
    "    \"GrLivArea\",\n",
    "]\n",
    "\n",
    "\n",
    "def cluster_labels(df, features, n_clusters=20):\n",
    "    X = df.copy()\n",
    "    X_scaled = X.loc[:, features]\n",
    "    X_scaled = (X_scaled - X_scaled.mean(axis=0)) / X_scaled.std(axis=0)\n",
    "    kmeans = KMeans(n_clusters=n_clusters, n_init=50, random_state=0)\n",
    "    X_new = pd.DataFrame()\n",
    "    X_new[\"Cluster\"] = kmeans.fit_predict(X_scaled)\n",
    "    return X_new\n",
    "\n",
    "\n",
    "def cluster_distance(df, features, n_clusters=20):\n",
    "    X = df.copy()\n",
    "    X_scaled = X.loc[:, features]\n",
    "    X_scaled = (X_scaled - X_scaled.mean(axis=0)) / X_scaled.std(axis=0)\n",
    "    \n",
    "    kmeans = KMeans(n_clusters=10, n_init=50, random_state=0) # n_clusters=20\n",
    "    X_cd = kmeans.fit_transform(X_scaled)\n",
    "    # Label features and join to dataset\n",
    "    X_cd = pd.DataFrame(\n",
    "        X_cd, columns=[f\"Centroid_{i}\" for i in range(X_cd.shape[1])]\n",
    "    )\n",
    "    return X_cd\n"
   ]
  },
  {
   "cell_type": "markdown",
   "id": "ecd028ae",
   "metadata": {
    "papermill": {
     "duration": 0.012291,
     "end_time": "2022-10-04T11:21:52.953504",
     "exception": false,
     "start_time": "2022-10-04T11:21:52.941213",
     "status": "completed"
    },
    "tags": []
   },
   "source": [
    "## Principal Component Analysis"
   ]
  },
  {
   "cell_type": "code",
   "execution_count": 26,
   "id": "75e42d31",
   "metadata": {
    "execution": {
     "iopub.execute_input": "2022-10-04T11:21:52.980434Z",
     "iopub.status.busy": "2022-10-04T11:21:52.979566Z",
     "iopub.status.idle": "2022-10-04T11:21:52.990230Z",
     "shell.execute_reply": "2022-10-04T11:21:52.989287Z"
    },
    "papermill": {
     "duration": 0.025976,
     "end_time": "2022-10-04T11:21:52.992264",
     "exception": false,
     "start_time": "2022-10-04T11:21:52.966288",
     "status": "completed"
    },
    "tags": []
   },
   "outputs": [],
   "source": [
    "def apply_pca(X, standardize=True):\n",
    "    # Standardize\n",
    "    if standardize:\n",
    "        X = (X - X.mean(axis=0)) / X.std(axis=0)\n",
    "    # Create principal components\n",
    "    pca = PCA()\n",
    "    X_pca = pca.fit_transform(X)\n",
    "    # Convert to dataframe\n",
    "    component_names = [f\"PC{i+1}\" for i in range(X_pca.shape[1])]\n",
    "    X_pca = pd.DataFrame(X_pca, columns=component_names)\n",
    "    # Create loadings\n",
    "    loadings = pd.DataFrame(\n",
    "        pca.components_.T,  # transpose the matrix of loadings\n",
    "        columns=component_names,  # so the columns are the principal components\n",
    "        index=X.columns,  # and the rows are the original features\n",
    "    )\n",
    "    return pca, X_pca, loadings\n",
    "\n",
    "\n",
    "def plot_variance(pca, width=8, dpi=100):\n",
    "    # Create figure\n",
    "    fig, axs = plt.subplots(1, 2)\n",
    "    n = pca.n_components_\n",
    "    grid = np.arange(1, n + 1)\n",
    "    # Explained variance\n",
    "    evr = pca.explained_variance_ratio_\n",
    "    axs[0].bar(grid, evr)\n",
    "    axs[0].set(\n",
    "        xlabel=\"Component\", title=\"% Explained Variance\", ylim=(0.0, 1.0)\n",
    "    )\n",
    "    # Cumulative Variance\n",
    "    cv = np.cumsum(evr)\n",
    "    axs[1].plot(np.r_[0, grid], np.r_[0, cv], \"o-\")\n",
    "    axs[1].set(\n",
    "        xlabel=\"Component\", title=\"% Cumulative Variance\", ylim=(0.0, 1.0)\n",
    "    )\n",
    "    # Set up figure\n",
    "    fig.set(figwidth=8, dpi=100)\n",
    "    return axs\n"
   ]
  },
  {
   "cell_type": "code",
   "execution_count": 27,
   "id": "03a4fad8",
   "metadata": {
    "execution": {
     "iopub.execute_input": "2022-10-04T11:21:53.019734Z",
     "iopub.status.busy": "2022-10-04T11:21:53.018851Z",
     "iopub.status.idle": "2022-10-04T11:21:53.025285Z",
     "shell.execute_reply": "2022-10-04T11:21:53.024241Z"
    },
    "papermill": {
     "duration": 0.022295,
     "end_time": "2022-10-04T11:21:53.027275",
     "exception": false,
     "start_time": "2022-10-04T11:21:53.004980",
     "status": "completed"
    },
    "tags": []
   },
   "outputs": [],
   "source": [
    "def pca_inspired(df):\n",
    "    X = pd.DataFrame()\n",
    "    X[\"Feature1\"] = df.GrLivArea + df.TotalBsmtSF\n",
    "    X[\"Feature2\"] = df.YearRemodAdd * df.TotalBsmtSF\n",
    "    return X\n",
    "\n",
    "\n",
    "def pca_components(df, features):\n",
    "    X = df.loc[:, features]\n",
    "    _, X_pca, _ = apply_pca(X)\n",
    "    return X_pca\n",
    "\n",
    "\n",
    "pca_features = [\n",
    "    \"GarageArea\",\n",
    "    \"YearRemodAdd\",\n",
    "    \"TotalBsmtSF\",\n",
    "    \"GrLivArea\",\n",
    "]"
   ]
  },
  {
   "cell_type": "code",
   "execution_count": 28,
   "id": "da04b2bf",
   "metadata": {
    "execution": {
     "iopub.execute_input": "2022-10-04T11:21:53.054367Z",
     "iopub.status.busy": "2022-10-04T11:21:53.053535Z",
     "iopub.status.idle": "2022-10-04T11:21:54.280017Z",
     "shell.execute_reply": "2022-10-04T11:21:54.279011Z"
    },
    "papermill": {
     "duration": 1.242739,
     "end_time": "2022-10-04T11:21:54.282798",
     "exception": false,
     "start_time": "2022-10-04T11:21:53.040059",
     "status": "completed"
    },
    "tags": []
   },
   "outputs": [
    {
     "data": {
      "image/png": "[encoded data removed]",
      "text/plain": [
       "<Figure size 720x720 with 4 Axes>"
      ]
     },
     "metadata": {},
     "output_type": "display_data"
    }
   ],
   "source": [
    "def corrplot(df, method=\"pearson\", annot=True, **kwargs):\n",
    "    sns.clustermap(\n",
    "        df.corr(method),\n",
    "        vmin=-1.0,\n",
    "        vmax=1.0,\n",
    "        cmap=\"icefire\",\n",
    "        method=\"complete\",\n",
    "        annot=annot,\n",
    "        **kwargs,\n",
    "    )\n",
    "\n",
    "\n",
    "corrplot(df_train, annot=None)"
   ]
  },
  {
   "cell_type": "markdown",
   "id": "2c46004f",
   "metadata": {
    "papermill": {
     "duration": 0.013789,
     "end_time": "2022-10-04T11:21:54.311097",
     "exception": false,
     "start_time": "2022-10-04T11:21:54.297308",
     "status": "completed"
    },
    "tags": []
   },
   "source": [
    "## PCA Application - Indicate Outliers"
   ]
  },
  {
   "cell_type": "code",
   "execution_count": 29,
   "id": "bb555203",
   "metadata": {
    "execution": {
     "iopub.execute_input": "2022-10-04T11:21:54.339885Z",
     "iopub.status.busy": "2022-10-04T11:21:54.339503Z",
     "iopub.status.idle": "2022-10-04T11:21:54.344635Z",
     "shell.execute_reply": "2022-10-04T11:21:54.343666Z"
    },
    "papermill": {
     "duration": 0.021954,
     "end_time": "2022-10-04T11:21:54.346643",
     "exception": false,
     "start_time": "2022-10-04T11:21:54.324689",
     "status": "completed"
    },
    "tags": []
   },
   "outputs": [],
   "source": [
    "def indicate_outliers(df):\n",
    "    X_new = pd.DataFrame()\n",
    "    X_new[\"Outlier\"] = (df.Neighborhood == \"Edwards\") & (df.SaleCondition == \"Partial\")\n",
    "    return X_new"
   ]
  },
  {
   "cell_type": "markdown",
   "id": "781aa364",
   "metadata": {
    "papermill": {
     "duration": 0.013386,
     "end_time": "2022-10-04T11:21:54.373803",
     "exception": false,
     "start_time": "2022-10-04T11:21:54.360417",
     "status": "completed"
    },
    "tags": []
   },
   "source": [
    "## Target Encoding"
   ]
  },
  {
   "cell_type": "code",
   "execution_count": 30,
   "id": "d1181fd3",
   "metadata": {
    "execution": {
     "iopub.execute_input": "2022-10-04T11:21:54.404111Z",
     "iopub.status.busy": "2022-10-04T11:21:54.403290Z",
     "iopub.status.idle": "2022-10-04T11:21:54.413557Z",
     "shell.execute_reply": "2022-10-04T11:21:54.412737Z"
    },
    "papermill": {
     "duration": 0.027535,
     "end_time": "2022-10-04T11:21:54.415590",
     "exception": false,
     "start_time": "2022-10-04T11:21:54.388055",
     "status": "completed"
    },
    "tags": []
   },
   "outputs": [],
   "source": [
    "class CrossFoldEncoder:\n",
    "    def __init__(self, encoder, **kwargs):\n",
    "        self.encoder_ = encoder\n",
    "        self.kwargs_ = kwargs  # keyword arguments for the encoder\n",
    "        self.cv_ = KFold(n_splits=5)\n",
    "\n",
    "    # Fit an encoder on one split and transform the feature on the other\n",
    "    def fit_transform(self, X, y, cols):\n",
    "        self.fitted_encoders_ = []\n",
    "        self.cols_ = cols\n",
    "        X_encoded = []\n",
    "        for idx_encode, idx_train in self.cv_.split(X):\n",
    "            fitted_encoder = self.encoder_(cols=cols, **self.kwargs_)\n",
    "            fitted_encoder.fit(\n",
    "                X.iloc[idx_encode, :], y.iloc[idx_encode],\n",
    "            )\n",
    "            X_encoded.append(fitted_encoder.transform(X.iloc[idx_train, :])[cols])\n",
    "            self.fitted_encoders_.append(fitted_encoder)\n",
    "        X_encoded = pd.concat(X_encoded)\n",
    "        X_encoded.columns = [name + \"_encoded\" for name in X_encoded.columns]\n",
    "        return X_encoded\n",
    "\n",
    "    # To transform the test data, average the encodings learned from\n",
    "    # each fold.\n",
    "    def transform(self, X):\n",
    "        from functools import reduce\n",
    "\n",
    "        X_encoded_list = []\n",
    "        for fitted_encoder in self.fitted_encoders_:\n",
    "            X_encoded = fitted_encoder.transform(X)\n",
    "            X_encoded_list.append(X_encoded[self.cols_])\n",
    "        X_encoded = reduce(\n",
    "            lambda x, y: x.add(y, fill_value=0), X_encoded_list\n",
    "        ) / len(X_encoded_list)\n",
    "        X_encoded.columns = [name + \"_encoded\" for name in X_encoded.columns]\n",
    "        return X_encoded"
   ]
  },
  {
   "cell_type": "markdown",
   "id": "d4e97d74",
   "metadata": {
    "papermill": {
     "duration": 0.013635,
     "end_time": "2022-10-04T11:21:54.442786",
     "exception": false,
     "start_time": "2022-10-04T11:21:54.429151",
     "status": "completed"
    },
    "tags": []
   },
   "source": [
    "## Final Feature Set"
   ]
  },
  {
   "cell_type": "code",
   "execution_count": 31,
   "id": "8b83e063",
   "metadata": {
    "execution": {
     "iopub.execute_input": "2022-10-04T11:21:54.471724Z",
     "iopub.status.busy": "2022-10-04T11:21:54.470917Z",
     "iopub.status.idle": "2022-10-04T11:21:59.718609Z",
     "shell.execute_reply": "2022-10-04T11:21:59.717842Z"
    },
    "papermill": {
     "duration": 5.265274,
     "end_time": "2022-10-04T11:21:59.721567",
     "exception": false,
     "start_time": "2022-10-04T11:21:54.456293",
     "status": "completed"
    },
    "tags": []
   },
   "outputs": [
    {
     "name": "stderr",
     "output_type": "stream",
     "text": [
      "/opt/conda/lib/python3.7/site-packages/pandas/core/arrays/categorical.py:2631: FutureWarning: The `inplace` parameter in pandas.Categorical.add_categories is deprecated and will be removed in a future version. Removing unused categories will always return a new Categorical object.\n",
      "  res = method(*args, **kwargs)\n"
     ]
    },
    {
     "data": {
      "text/plain": [
       "0.13819256299696586"
      ]
     },
     "execution_count": 31,
     "metadata": {},
     "output_type": "execute_result"
    }
   ],
   "source": [
    "def create_features(df, df_test=None):\n",
    "    X = df.copy()\n",
    "    y = X.pop(\"SalePrice\")\n",
    "    mi_scores = make_mi_scores(X, y)\n",
    "\n",
    "    # If we're creating features for test set predictions, we should\n",
    "    # use all the data we have available. After creating our features,\n",
    "    # we'll recreate the splits.\n",
    "    \n",
    "    if df_test is not None:\n",
    "        X_test = df_test.copy()\n",
    "        X_test.pop(\"SalePrice\")\n",
    "        X = pd.concat([X, X_test])\n",
    "\n",
    "    # Mutual Information\n",
    "    X = drop_uninformative(X, mi_scores)\n",
    "\n",
    "    # Transformations\n",
    "    X = X.join(mathematical_transforms(X))\n",
    "    X = X.join(interactions(X))\n",
    "    X = X.join(counts(X))\n",
    "    # X = X.join(break_down(X))\n",
    "    X = X.join(group_transforms(X))\n",
    "\n",
    "    #  Clustering\n",
    "    # X = X.join(cluster_labels(X, cluster_features, n_clusters=20))\n",
    " \n",
    "    # X = X.join(cluster_distance(X, cluster_features, n_clusters=10))\n",
    "\n",
    "    # PCA\n",
    "    X = X.join(pca_inspired(X))\n",
    "    # X = X.join(pca_components(X, pca_features))\n",
    "    # X = X.join(indicate_outliers(X))\n",
    "\n",
    "    X = label_encode(X)\n",
    "\n",
    "    # Reform splits\n",
    "    if df_test is not None:\n",
    "        X_test = X.loc[df_test.index, :]\n",
    "        X.drop(df_test.index, inplace=True)\n",
    "\n",
    "    # Target Encoder\n",
    "    encoder = CrossFoldEncoder(MEstimateEncoder, m=1)\n",
    "    X = X.join(encoder.fit_transform(X, y, cols=[\"MSSubClass\"]))\n",
    "    if df_test is not None:\n",
    "        X_test = X_test.join(encoder.transform(X_test))\n",
    "\n",
    "    if df_test is not None:\n",
    "        return X, X_test\n",
    "    else:\n",
    "        return X\n",
    "\n",
    "\n",
    "df_train, df_test = load_data()\n",
    "X_train = create_features(df_train)\n",
    "y_train = df_train.loc[:, \"SalePrice\"]\n",
    "\n",
    "score_dataset(X_train, y_train)"
   ]
  },
  {
   "cell_type": "markdown",
   "id": "edc1c297",
   "metadata": {
    "papermill": {
     "duration": 0.013697,
     "end_time": "2022-10-04T11:21:59.750413",
     "exception": false,
     "start_time": "2022-10-04T11:21:59.736716",
     "status": "completed"
    },
    "tags": []
   },
   "source": [
    "# Step 4 - Hyperparameter Tuning"
   ]
  },
  {
   "cell_type": "code",
   "execution_count": 32,
   "id": "0b10d320",
   "metadata": {
    "execution": {
     "iopub.execute_input": "2022-10-04T11:21:59.779343Z",
     "iopub.status.busy": "2022-10-04T11:21:59.778673Z",
     "iopub.status.idle": "2022-10-04T11:21:59.785271Z",
     "shell.execute_reply": "2022-10-04T11:21:59.784460Z"
    },
    "papermill": {
     "duration": 0.023161,
     "end_time": "2022-10-04T11:21:59.787322",
     "exception": false,
     "start_time": "2022-10-04T11:21:59.764161",
     "status": "completed"
    },
    "tags": []
   },
   "outputs": [],
   "source": [
    "def gridSearchCVFunc(X, y, model_, params_):\n",
    "    for colname in X.select_dtypes([\"category\"]):\n",
    "        X[colname] = X[colname].cat.codes\n",
    "        \n",
    "    gs = GridSearchCV(estimator= model_,\n",
    "                  param_grid = params_,\n",
    "                  scoring =  'neg_root_mean_squared_error',\n",
    "                  cv = 5)\n",
    "    grid_search = gs.fit(X,y)\n",
    "    return grid_search"
   ]
  },
  {
   "cell_type": "code",
   "execution_count": 33,
   "id": "24450edf",
   "metadata": {
    "execution": {
     "iopub.execute_input": "2022-10-04T11:21:59.816006Z",
     "iopub.status.busy": "2022-10-04T11:21:59.815731Z",
     "iopub.status.idle": "2022-10-04T11:21:59.822205Z",
     "shell.execute_reply": "2022-10-04T11:21:59.821252Z"
    },
    "papermill": {
     "duration": 0.02333,
     "end_time": "2022-10-04T11:21:59.824194",
     "exception": false,
     "start_time": "2022-10-04T11:21:59.800864",
     "status": "completed"
    },
    "tags": []
   },
   "outputs": [],
   "source": [
    "def modelExec(X, y, model, params):\n",
    "    st_process = time.process_time()\n",
    "    st_wall = time.time()\n",
    "\n",
    "    grid_search = gridSearchCVFunc(X, y, model, params)\n",
    "    model = grid_search.best_estimator_\n",
    "    print(grid_search.best_params_)\n",
    "\n",
    "    score_ = score_dataset(X, y, model)\n",
    "\n",
    "    et_process = time.process_time()\n",
    "    res = et_process - st_process\n",
    "    elapsed_time = time.time() - st_wall\n",
    "    \n",
    "    print('CPU Execution time:', res, 'seconds')\n",
    "    print('Execution time:', time.strftime(\"%H:%M:%S\", time.gmtime(elapsed_time)))\n",
    "    print(f\"{score_}\\n\")\n",
    "\n",
    "    return model\n"
   ]
  },
  {
   "cell_type": "code",
   "execution_count": 34,
   "id": "d650dbda",
   "metadata": {
    "execution": {
     "iopub.execute_input": "2022-10-04T11:21:59.853145Z",
     "iopub.status.busy": "2022-10-04T11:21:59.852362Z",
     "iopub.status.idle": "2022-10-04T11:22:01.404289Z",
     "shell.execute_reply": "2022-10-04T11:22:01.403371Z"
    },
    "papermill": {
     "duration": 1.568722,
     "end_time": "2022-10-04T11:22:01.406485",
     "exception": false,
     "start_time": "2022-10-04T11:21:59.837763",
     "status": "completed"
    },
    "tags": []
   },
   "outputs": [
    {
     "data": {
      "text/html": [
       "<div>\n",
       "<style scoped>\n",
       "    .dataframe tbody tr th:only-of-type {\n",
       "        vertical-align: middle;\n",
       "    }\n",
       "\n",
       "    .dataframe tbody tr th {\n",
       "        vertical-align: top;\n",
       "    }\n",
       "\n",
       "    .dataframe thead th {\n",
       "        text-align: right;\n",
       "    }\n",
       "</style>\n",
       "<table border=\"1\" class=\"dataframe\">\n",
       "  <thead>\n",
       "    <tr style=\"text-align: right;\">\n",
       "      <th></th>\n",
       "      <th>MSSubClass</th>\n",
       "      <th>MSZoning</th>\n",
       "      <th>LotFrontage</th>\n",
       "      <th>LotArea</th>\n",
       "      <th>Street</th>\n",
       "      <th>Alley</th>\n",
       "      <th>LotShape</th>\n",
       "      <th>LandContour</th>\n",
       "      <th>Utilities</th>\n",
       "      <th>LotConfig</th>\n",
       "      <th>...</th>\n",
       "      <th>Bldg_2fmCon</th>\n",
       "      <th>Bldg_Duplex</th>\n",
       "      <th>Bldg_Twnhs</th>\n",
       "      <th>Bldg_TwnhsE</th>\n",
       "      <th>Bldg_None</th>\n",
       "      <th>PorchTypes</th>\n",
       "      <th>MedNhbdArea</th>\n",
       "      <th>Feature1</th>\n",
       "      <th>Feature2</th>\n",
       "      <th>MSSubClass_encoded</th>\n",
       "    </tr>\n",
       "    <tr>\n",
       "      <th>Id</th>\n",
       "      <th></th>\n",
       "      <th></th>\n",
       "      <th></th>\n",
       "      <th></th>\n",
       "      <th></th>\n",
       "      <th></th>\n",
       "      <th></th>\n",
       "      <th></th>\n",
       "      <th></th>\n",
       "      <th></th>\n",
       "      <th></th>\n",
       "      <th></th>\n",
       "      <th></th>\n",
       "      <th></th>\n",
       "      <th></th>\n",
       "      <th></th>\n",
       "      <th></th>\n",
       "      <th></th>\n",
       "      <th></th>\n",
       "      <th></th>\n",
       "      <th></th>\n",
       "    </tr>\n",
       "  </thead>\n",
       "  <tbody>\n",
       "    <tr>\n",
       "      <th>1</th>\n",
       "      <td>5</td>\n",
       "      <td>3</td>\n",
       "      <td>65.0</td>\n",
       "      <td>8450</td>\n",
       "      <td>1</td>\n",
       "      <td>2</td>\n",
       "      <td>1</td>\n",
       "      <td>3</td>\n",
       "      <td>3</td>\n",
       "      <td>4</td>\n",
       "      <td>...</td>\n",
       "      <td>0</td>\n",
       "      <td>0</td>\n",
       "      <td>0</td>\n",
       "      <td>0</td>\n",
       "      <td>0</td>\n",
       "      <td>1</td>\n",
       "      <td>1500.0</td>\n",
       "      <td>2566.0</td>\n",
       "      <td>1714568.0</td>\n",
       "      <td>239516.446215</td>\n",
       "    </tr>\n",
       "    <tr>\n",
       "      <th>2</th>\n",
       "      <td>0</td>\n",
       "      <td>3</td>\n",
       "      <td>80.0</td>\n",
       "      <td>9600</td>\n",
       "      <td>1</td>\n",
       "      <td>2</td>\n",
       "      <td>1</td>\n",
       "      <td>3</td>\n",
       "      <td>3</td>\n",
       "      <td>2</td>\n",
       "      <td>...</td>\n",
       "      <td>0</td>\n",
       "      <td>0</td>\n",
       "      <td>0</td>\n",
       "      <td>0</td>\n",
       "      <td>0</td>\n",
       "      <td>1</td>\n",
       "      <td>1437.0</td>\n",
       "      <td>2524.0</td>\n",
       "      <td>2493712.0</td>\n",
       "      <td>185723.883274</td>\n",
       "    </tr>\n",
       "    <tr>\n",
       "      <th>3</th>\n",
       "      <td>5</td>\n",
       "      <td>3</td>\n",
       "      <td>68.0</td>\n",
       "      <td>11250</td>\n",
       "      <td>1</td>\n",
       "      <td>2</td>\n",
       "      <td>2</td>\n",
       "      <td>3</td>\n",
       "      <td>3</td>\n",
       "      <td>4</td>\n",
       "      <td>...</td>\n",
       "      <td>0</td>\n",
       "      <td>0</td>\n",
       "      <td>0</td>\n",
       "      <td>0</td>\n",
       "      <td>0</td>\n",
       "      <td>1</td>\n",
       "      <td>1500.0</td>\n",
       "      <td>2706.0</td>\n",
       "      <td>1841840.0</td>\n",
       "      <td>239516.446215</td>\n",
       "    </tr>\n",
       "    <tr>\n",
       "      <th>4</th>\n",
       "      <td>6</td>\n",
       "      <td>3</td>\n",
       "      <td>60.0</td>\n",
       "      <td>9550</td>\n",
       "      <td>1</td>\n",
       "      <td>2</td>\n",
       "      <td>2</td>\n",
       "      <td>3</td>\n",
       "      <td>3</td>\n",
       "      <td>0</td>\n",
       "      <td>...</td>\n",
       "      <td>0</td>\n",
       "      <td>0</td>\n",
       "      <td>0</td>\n",
       "      <td>0</td>\n",
       "      <td>0</td>\n",
       "      <td>2</td>\n",
       "      <td>1717.0</td>\n",
       "      <td>2473.0</td>\n",
       "      <td>1489320.0</td>\n",
       "      <td>166639.379087</td>\n",
       "    </tr>\n",
       "    <tr>\n",
       "      <th>5</th>\n",
       "      <td>5</td>\n",
       "      <td>3</td>\n",
       "      <td>84.0</td>\n",
       "      <td>14260</td>\n",
       "      <td>1</td>\n",
       "      <td>2</td>\n",
       "      <td>2</td>\n",
       "      <td>3</td>\n",
       "      <td>3</td>\n",
       "      <td>2</td>\n",
       "      <td>...</td>\n",
       "      <td>0</td>\n",
       "      <td>0</td>\n",
       "      <td>0</td>\n",
       "      <td>0</td>\n",
       "      <td>0</td>\n",
       "      <td>2</td>\n",
       "      <td>2418.0</td>\n",
       "      <td>3343.0</td>\n",
       "      <td>2290000.0</td>\n",
       "      <td>239516.446215</td>\n",
       "    </tr>\n",
       "    <tr>\n",
       "      <th>...</th>\n",
       "      <td>...</td>\n",
       "      <td>...</td>\n",
       "      <td>...</td>\n",
       "      <td>...</td>\n",
       "      <td>...</td>\n",
       "      <td>...</td>\n",
       "      <td>...</td>\n",
       "      <td>...</td>\n",
       "      <td>...</td>\n",
       "      <td>...</td>\n",
       "      <td>...</td>\n",
       "      <td>...</td>\n",
       "      <td>...</td>\n",
       "      <td>...</td>\n",
       "      <td>...</td>\n",
       "      <td>...</td>\n",
       "      <td>...</td>\n",
       "      <td>...</td>\n",
       "      <td>...</td>\n",
       "      <td>...</td>\n",
       "      <td>...</td>\n",
       "    </tr>\n",
       "    <tr>\n",
       "      <th>1456</th>\n",
       "      <td>5</td>\n",
       "      <td>3</td>\n",
       "      <td>62.0</td>\n",
       "      <td>7917</td>\n",
       "      <td>1</td>\n",
       "      <td>2</td>\n",
       "      <td>1</td>\n",
       "      <td>3</td>\n",
       "      <td>3</td>\n",
       "      <td>4</td>\n",
       "      <td>...</td>\n",
       "      <td>0</td>\n",
       "      <td>0</td>\n",
       "      <td>0</td>\n",
       "      <td>0</td>\n",
       "      <td>0</td>\n",
       "      <td>1</td>\n",
       "      <td>1593.0</td>\n",
       "      <td>2600.0</td>\n",
       "      <td>1906000.0</td>\n",
       "      <td>240928.838526</td>\n",
       "    </tr>\n",
       "    <tr>\n",
       "      <th>1457</th>\n",
       "      <td>0</td>\n",
       "      <td>3</td>\n",
       "      <td>85.0</td>\n",
       "      <td>13175</td>\n",
       "      <td>1</td>\n",
       "      <td>2</td>\n",
       "      <td>1</td>\n",
       "      <td>3</td>\n",
       "      <td>3</td>\n",
       "      <td>4</td>\n",
       "      <td>...</td>\n",
       "      <td>0</td>\n",
       "      <td>0</td>\n",
       "      <td>0</td>\n",
       "      <td>0</td>\n",
       "      <td>0</td>\n",
       "      <td>1</td>\n",
       "      <td>1664.0</td>\n",
       "      <td>3615.0</td>\n",
       "      <td>3065496.0</td>\n",
       "      <td>183654.853847</td>\n",
       "    </tr>\n",
       "    <tr>\n",
       "      <th>1458</th>\n",
       "      <td>6</td>\n",
       "      <td>3</td>\n",
       "      <td>66.0</td>\n",
       "      <td>9042</td>\n",
       "      <td>1</td>\n",
       "      <td>2</td>\n",
       "      <td>1</td>\n",
       "      <td>3</td>\n",
       "      <td>3</td>\n",
       "      <td>4</td>\n",
       "      <td>...</td>\n",
       "      <td>0</td>\n",
       "      <td>0</td>\n",
       "      <td>0</td>\n",
       "      <td>0</td>\n",
       "      <td>0</td>\n",
       "      <td>1</td>\n",
       "      <td>1717.0</td>\n",
       "      <td>3492.0</td>\n",
       "      <td>2310912.0</td>\n",
       "      <td>164348.875596</td>\n",
       "    </tr>\n",
       "    <tr>\n",
       "      <th>1459</th>\n",
       "      <td>0</td>\n",
       "      <td>3</td>\n",
       "      <td>68.0</td>\n",
       "      <td>9717</td>\n",
       "      <td>1</td>\n",
       "      <td>2</td>\n",
       "      <td>1</td>\n",
       "      <td>3</td>\n",
       "      <td>3</td>\n",
       "      <td>4</td>\n",
       "      <td>...</td>\n",
       "      <td>0</td>\n",
       "      <td>0</td>\n",
       "      <td>0</td>\n",
       "      <td>0</td>\n",
       "      <td>0</td>\n",
       "      <td>2</td>\n",
       "      <td>1200.0</td>\n",
       "      <td>2156.0</td>\n",
       "      <td>2151688.0</td>\n",
       "      <td>183654.853847</td>\n",
       "    </tr>\n",
       "    <tr>\n",
       "      <th>1460</th>\n",
       "      <td>0</td>\n",
       "      <td>3</td>\n",
       "      <td>75.0</td>\n",
       "      <td>9937</td>\n",
       "      <td>1</td>\n",
       "      <td>2</td>\n",
       "      <td>1</td>\n",
       "      <td>3</td>\n",
       "      <td>3</td>\n",
       "      <td>4</td>\n",
       "      <td>...</td>\n",
       "      <td>0</td>\n",
       "      <td>0</td>\n",
       "      <td>0</td>\n",
       "      <td>0</td>\n",
       "      <td>0</td>\n",
       "      <td>2</td>\n",
       "      <td>1200.0</td>\n",
       "      <td>2512.0</td>\n",
       "      <td>2468040.0</td>\n",
       "      <td>183654.853847</td>\n",
       "    </tr>\n",
       "  </tbody>\n",
       "</table>\n",
       "<p>1460 rows × 87 columns</p>\n",
       "</div>"
      ],
      "text/plain": [
       "      MSSubClass  MSZoning  LotFrontage  LotArea  Street  Alley  LotShape  \\\n",
       "Id                                                                          \n",
       "1              5         3         65.0     8450       1      2         1   \n",
       "2              0         3         80.0     9600       1      2         1   \n",
       "3              5         3         68.0    11250       1      2         2   \n",
       "4              6         3         60.0     9550       1      2         2   \n",
       "5              5         3         84.0    14260       1      2         2   \n",
       "...          ...       ...          ...      ...     ...    ...       ...   \n",
       "1456           5         3         62.0     7917       1      2         1   \n",
       "1457           0         3         85.0    13175       1      2         1   \n",
       "1458           6         3         66.0     9042       1      2         1   \n",
       "1459           0         3         68.0     9717       1      2         1   \n",
       "1460           0         3         75.0     9937       1      2         1   \n",
       "\n",
       "      LandContour  Utilities  LotConfig  ...  Bldg_2fmCon  Bldg_Duplex  \\\n",
       "Id                                       ...                             \n",
       "1               3          3          4  ...            0            0   \n",
       "2               3          3          2  ...            0            0   \n",
       "3               3          3          4  ...            0            0   \n",
       "4               3          3          0  ...            0            0   \n",
       "5               3          3          2  ...            0            0   \n",
       "...           ...        ...        ...  ...          ...          ...   \n",
       "1456            3          3          4  ...            0            0   \n",
       "1457            3          3          4  ...            0            0   \n",
       "1458            3          3          4  ...            0            0   \n",
       "1459            3          3          4  ...            0            0   \n",
       "1460            3          3          4  ...            0            0   \n",
       "\n",
       "      Bldg_Twnhs  Bldg_TwnhsE  Bldg_None  PorchTypes  MedNhbdArea  Feature1  \\\n",
       "Id                                                                            \n",
       "1              0            0          0           1       1500.0    2566.0   \n",
       "2              0            0          0           1       1437.0    2524.0   \n",
       "3              0            0          0           1       1500.0    2706.0   \n",
       "4              0            0          0           2       1717.0    2473.0   \n",
       "5              0            0          0           2       2418.0    3343.0   \n",
       "...          ...          ...        ...         ...          ...       ...   \n",
       "1456           0            0          0           1       1593.0    2600.0   \n",
       "1457           0            0          0           1       1664.0    3615.0   \n",
       "1458           0            0          0           1       1717.0    3492.0   \n",
       "1459           0            0          0           2       1200.0    2156.0   \n",
       "1460           0            0          0           2       1200.0    2512.0   \n",
       "\n",
       "       Feature2  MSSubClass_encoded  \n",
       "Id                                   \n",
       "1     1714568.0       239516.446215  \n",
       "2     2493712.0       185723.883274  \n",
       "3     1841840.0       239516.446215  \n",
       "4     1489320.0       166639.379087  \n",
       "5     2290000.0       239516.446215  \n",
       "...         ...                 ...  \n",
       "1456  1906000.0       240928.838526  \n",
       "1457  3065496.0       183654.853847  \n",
       "1458  2310912.0       164348.875596  \n",
       "1459  2151688.0       183654.853847  \n",
       "1460  2468040.0       183654.853847  \n",
       "\n",
       "[1460 rows x 87 columns]"
      ]
     },
     "execution_count": 34,
     "metadata": {},
     "output_type": "execute_result"
    }
   ],
   "source": [
    "X_train = create_features(df_train)\n",
    "y_train = df_train.loc[:, \"SalePrice\"]\n",
    "X_train"
   ]
  },
  {
   "cell_type": "code",
   "execution_count": 35,
   "id": "a980e748",
   "metadata": {
    "execution": {
     "iopub.execute_input": "2022-10-04T11:22:01.437109Z",
     "iopub.status.busy": "2022-10-04T11:22:01.436817Z",
     "iopub.status.idle": "2022-10-04T11:49:33.818797Z",
     "shell.execute_reply": "2022-10-04T11:49:33.818006Z"
    },
    "papermill": {
     "duration": 1652.399367,
     "end_time": "2022-10-04T11:49:33.821002",
     "exception": false,
     "start_time": "2022-10-04T11:22:01.421635",
     "status": "completed"
    },
    "tags": []
   },
   "outputs": [
    {
     "name": "stdout",
     "output_type": "stream",
     "text": [
      "GradientBoostingRegressor Params:\n",
      "{'learning_rate': 0.05, 'max_depth': 6, 'min_samples_split': 15, 'n_estimators': 500, 'subsample': 0.5}\n",
      "CPU Execution time: 1048.476024582 seconds\n",
      "Execution time: 00:17:32\n",
      "0.12220283620562018\n",
      "\n",
      "XGBRegressor Params:\n",
      "{'colsample_bytree': 0.7, 'learning_rate': 0.03, 'max_depth': 4, 'min_child_weight': 3, 'n_estimators': 1500, 'num_parallel_tree': 1, 'reg_alpha': 0.5, 'reg_lambda': 1.0, 'subsample': 0.7}\n",
      "CPU Execution time: 1149.44192898 seconds\n",
      "Execution time: 00:09:59\n",
      "0.11976640214439603\n",
      "\n"
     ]
    }
   ],
   "source": [
    "print('GradientBoostingRegressor Params:')\n",
    "gboosting_params = {'learning_rate': [.02, .03, .05], # 0.04\n",
    "                  'subsample'    : [.1, .2, .5], # 0.1\n",
    "                  'n_estimators' : [500, 800], # 1500, 1000\n",
    "                  'max_depth'    : [6,8],\n",
    "              \"min_samples_split\" : [10, 15]}\n",
    "gboosting = GradientBoostingRegressor()\n",
    "gboosting_model = modelExec(X_train, y_train, gboosting, gboosting_params)\n",
    "\n",
    "\n",
    "\n",
    "print('XGBRegressor Params:')\n",
    "xgb_params = dict(\n",
    "    max_depth=[4, 6],           # maximum depth of each tree - try 2 to 10\n",
    "    learning_rate=[0.01, 0.03],    # effect of each tree - try 0.0001 to 0.1\n",
    "    n_estimators=[1500, 2000],     # number of trees (that is, boosting rounds) - try 1000 to 8000\n",
    "    min_child_weight=[3],    # minimum number of houses in a leaf - try 1 to 10\n",
    "    colsample_bytree=[0.7],  # fraction of features (columns) per tree - try 0.2 to 1.0\n",
    "    subsample=[0.5, 0.7],         # fraction of instances (rows) per tree - try 0.2 to 1.0\n",
    "    reg_alpha=[0.5],         # L1 regularization (like LASSO) - try 0.0 to 10.0\n",
    "    reg_lambda=[1.0],        # L2 regularization (like Ridge) - try 0.0 to 10.0\n",
    "    num_parallel_tree=[1],   # set > 1 for boosted random forests\n",
    ")\n",
    "xgb = XGBRegressor()\n",
    "xgb_model = modelExec(X_train, y_train, xgb, xgb_params)\n",
    "\n"
   ]
  },
  {
   "cell_type": "markdown",
   "id": "4d90634b",
   "metadata": {
    "papermill": {
     "duration": 0.014447,
     "end_time": "2022-10-04T11:49:33.852311",
     "exception": false,
     "start_time": "2022-10-04T11:49:33.837864",
     "status": "completed"
    },
    "tags": []
   },
   "source": [
    "# Step 5 - Train Model and Create Submissions"
   ]
  },
  {
   "cell_type": "code",
   "execution_count": 36,
   "id": "49a8441f",
   "metadata": {
    "execution": {
     "iopub.execute_input": "2022-10-04T11:49:33.882507Z",
     "iopub.status.busy": "2022-10-04T11:49:33.882198Z",
     "iopub.status.idle": "2022-10-04T11:49:39.953185Z",
     "shell.execute_reply": "2022-10-04T11:49:39.952152Z"
    },
    "papermill": {
     "duration": 6.089572,
     "end_time": "2022-10-04T11:49:39.956607",
     "exception": false,
     "start_time": "2022-10-04T11:49:33.867035",
     "status": "completed"
    },
    "tags": []
   },
   "outputs": [
    {
     "name": "stdout",
     "output_type": "stream",
     "text": [
      "Submission saved!\n"
     ]
    }
   ],
   "source": [
    "X_train, X_test = create_features(df_train, df_test)\n",
    "y_train = df_train.loc[:, \"SalePrice\"]\n",
    "\n",
    "\n",
    "# XGB minimizes MSE, but competition loss is RMSLE\n",
    "# So, we need to log-transform y to train and exp-transform the predictions\n",
    "gboosting_model.fit(X_train, np.log(y))\n",
    "predictions = np.exp(gboosting_model.predict(X_test))\n",
    "\n",
    "output = pd.DataFrame({'Id': X_test.index, 'SalePrice': predictions})\n",
    "output.to_csv('submission.csv', index=False)\n",
    "print(\"Submission saved!\")"
   ]
  },
  {
   "cell_type": "code",
   "execution_count": null,
   "id": "6017c791",
   "metadata": {
    "papermill": {
     "duration": 0.014824,
     "end_time": "2022-10-04T11:49:39.987409",
     "exception": false,
     "start_time": "2022-10-04T11:49:39.972585",
     "status": "completed"
    },
    "tags": []
   },
   "outputs": [],
   "source": []
  }
 ],
 "metadata": {
  "kernelspec": {
   "display_name": "Python 3",
   "language": "python",
   "name": "python3"
  },
  "language_info": {
   "codemirror_mode": {
    "name": "ipython",
    "version": 3
   },
   "file_extension": ".py",
   "mimetype": "text/x-python",
   "name": "python",
   "nbconvert_exporter": "python",
   "pygments_lexer": "ipython3",
   "version": "3.7.12"
  },
  "papermill": {
   "default_parameters": {},
   "duration": 1690.264301,
   "end_time": "2022-10-04T11:49:41.227847",
   "environment_variables": {},
   "exception": null,
   "input_path": "__notebook__.ipynb",
   "output_path": "__notebook__.ipynb",
   "parameters": {},
   "start_time": "2022-10-04T11:21:30.963546",
   "version": "2.3.4"
  }
 },
 "nbformat": 4,
 "nbformat_minor": 5
}
